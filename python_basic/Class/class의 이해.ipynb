{
 "cells": [
  {
   "cell_type": "markdown",
   "metadata": {},
   "source": [
    "## 클래스란?\n",
    "* 현실의 어떤것들을 모델링하여 속성(attribute)과 동작(method)을 갖는 데이터 타입\n",
    "* python에서 str, int, dict, list 등은 모두 클래스이다\n",
    "* e.g) 학생이라는 클래스 만들기\n",
    " - 학생을 나타내는 속성, 학생이 행할 수 있는 행동을 정의할 수 있다\n",
    "* 클래스는 속성과 메소드(함수)로 이루어져 있다\n",
    "\n",
    "### 클래스 선언\n",
    "- class 클래스명:  # 앞글자는 대문자\n",
    "    \n",
    "    속성\n",
    "    속성\n",
    "    메소드\n",
    "    메소드\n",
    "    ......\n",
    "    "
   ]
  },
  {
   "cell_type": "code",
   "execution_count": 1,
   "metadata": {},
   "outputs": [
    {
     "name": "stdout",
     "output_type": "stream",
     "text": [
      "140718924344816\n"
     ]
    }
   ],
   "source": [
    "a = 100\n",
    "print(id(a)) # 객체 a가 갖고있는 주소 값(메모리에 저장되어 있다는 의미)"
   ]
  },
  {
   "cell_type": "code",
   "execution_count": 17,
   "metadata": {},
   "outputs": [],
   "source": [
    "class NameCard:\n",
    "    def set_info(self, name, email, addr): \n",
    "        #self는 어떤 인스턴스를 대입해도 해당 속성을 출력할수 있도록 하기위함\n",
    "        self.name = name\n",
    "        self.email = email\n",
    "        self.addr = addr\n",
    "    \n",
    "    def print_info(self):\n",
    "        print(\"=====================\")\n",
    "        print('Name : ', self.name)\n",
    "        print('E-mail : ', self.email)        \n",
    "        print('Address: ', self.addr)     \n",
    "        print(\"=====================\")\n"
   ]
  },
  {
   "cell_type": "code",
   "execution_count": 18,
   "metadata": {},
   "outputs": [
    {
     "name": "stdout",
     "output_type": "stream",
     "text": [
      "1835888361416\n",
      "1835888361352\n"
     ]
    }
   ],
   "source": [
    "member1 = NameCard() # member1은 인스턴스\n",
    "member2 = NameCard()\n",
    "print(id(member1))\n",
    "print(id(member2))"
   ]
  },
  {
   "cell_type": "code",
   "execution_count": 10,
   "metadata": {},
   "outputs": [
    {
     "name": "stdout",
     "output_type": "stream",
     "text": [
      "Ko\n",
      "kim66@naver.com\n"
     ]
    }
   ],
   "source": [
    "member1.set_info('Ko','elelelel77@naver.com','Incheon')\n",
    "member2.set_info('kim','kim66@naver.com','Seoul')\n",
    "\n",
    "print(member1.name)\n",
    "print(member2.email)"
   ]
  },
  {
   "cell_type": "code",
   "execution_count": 11,
   "metadata": {},
   "outputs": [
    {
     "data": {
      "text/plain": [
       "__main__.NameCard"
      ]
     },
     "execution_count": 11,
     "metadata": {},
     "output_type": "execute_result"
    }
   ],
   "source": [
    "type(member1)"
   ]
  },
  {
   "cell_type": "code",
   "execution_count": 24,
   "metadata": {},
   "outputs": [
    {
     "name": "stdout",
     "output_type": "stream",
     "text": [
      "=====================\n",
      "Name :  Ko\n",
      "E-mail :  elelelel77@naver.com\n",
      "Address:  Incheon\n",
      "=====================\n",
      "=====================\n",
      "Name :  kim\n",
      "E-mail :  kim66@naver.com\n",
      "Address:  Seoul\n",
      "=====================\n"
     ]
    }
   ],
   "source": [
    "member1=NameCard()\n",
    "member1.set_info('Ko','elelelel77@naver.com','Incheon')\n",
    "member1.print_info()\n",
    "\n",
    "member2=NameCard()\n",
    "member2.set_info('kim','kim66@naver.com','Seoul')\n",
    "member2.print_info()\n",
    "\n",
    "# 인스턴스가 많을 때 위 방법은 번거롭다"
   ]
  },
  {
   "cell_type": "code",
   "execution_count": 12,
   "metadata": {},
   "outputs": [],
   "source": [
    "# 클래스 생성자\n",
    "class MyDemo:\n",
    "    def __init__(self, name, addr):\n",
    "        print(\"객체 생성되었습니다\")\n",
    "        self.name = name\n",
    "        self.addr = addr\n",
    "    \n",
    "    def ptint_info(self):\n",
    "        print(self.name)\n",
    "        print(self.addr)\n",
    "        "
   ]
  },
  {
   "cell_type": "code",
   "execution_count": 13,
   "metadata": {},
   "outputs": [
    {
     "name": "stdout",
     "output_type": "stream",
     "text": [
      "객체 생성되었습니다\n",
      "홍길동\n",
      "서울\n"
     ]
    }
   ],
   "source": [
    "instance1 = MyDemo('홍길동', '서울')\n",
    "instance1.ptint_info()"
   ]
  },
  {
   "cell_type": "code",
   "execution_count": 43,
   "metadata": {},
   "outputs": [
    {
     "data": {
      "text/plain": [
       "\"\\n[문제 1] Book 클래스를 만들어서 책의 제목을 출력해라(책 2개 이상)\\n\\ne.g) 책 체목은 '파이썬 배우기' 입니다.\\n     책 제목은 '자바 기초' 입니다.\\n\\n[문제 2] Student 클래스를 정의하여 두명의 학생을 만들고 두 학생의 정보를 출력해라\\n\\ne.g) 제 이름은 홍길동 입니다. 나이는 21살 입니다.\\n\\n[문제 3] IceCream 클래스를 정의하여 두개 이상의 아이스크림 정보를 출력해라\\n\\ne.g) 돼지바 가격은 1000원 입니다.\\n\\n\""
      ]
     },
     "execution_count": 43,
     "metadata": {},
     "output_type": "execute_result"
    }
   ],
   "source": [
    "'''\n",
    "[문제 1] Book 클래스를 만들어서 책의 제목을 출력해라(책 2개 이상)\n",
    "\n",
    "e.g) 책 체목은 '파이썬 배우기' 입니다.\n",
    "     책 제목은 '자바 기초' 입니다.\n",
    "\n",
    "[문제 2] Student 클래스를 정의하여 두명의 학생을 만들고 두 학생의 정보를 출력해라\n",
    "\n",
    "e.g) 제 이름은 홍길동 입니다. 나이는 21살 입니다.\n",
    "\n",
    "[문제 3] IceCream 클래스를 정의하여 두개 이상의 아이스크림 정보를 출력해라\n",
    "\n",
    "e.g) 돼지바 가격은 1000원 입니다.\n",
    "\n",
    "'''\n"
   ]
  },
  {
   "cell_type": "code",
   "execution_count": 72,
   "metadata": {},
   "outputs": [],
   "source": [
    "# 문제1\n",
    "class Book:\n",
    "    def __init__(self, title):\n",
    "        self.title = title\n",
    "\n",
    "    def print_title(self):\n",
    "        print(f'책 제목은 {self.title} 입니다.')   \n"
   ]
  },
  {
   "cell_type": "code",
   "execution_count": 73,
   "metadata": {},
   "outputs": [
    {
     "name": "stdout",
     "output_type": "stream",
     "text": [
      "책 제목은 점프투파이썬 입니다.\n",
      "책 제목은 자바 기초 입니다.\n"
     ]
    }
   ],
   "source": [
    "book1 = Book('점프투파이썬')\n",
    "book1.print_title()\n",
    "book2 = Book('자바 기초')\n",
    "book2.print_title()"
   ]
  },
  {
   "cell_type": "code",
   "execution_count": 74,
   "metadata": {},
   "outputs": [],
   "source": [
    "# 문제1 다른방법\n",
    "class Book:\n",
    "    def __init__(self, title):\n",
    "        print(f'책 제목은 {title} 입니다')\n",
    "\n"
   ]
  },
  {
   "cell_type": "code",
   "execution_count": 76,
   "metadata": {},
   "outputs": [
    {
     "name": "stdout",
     "output_type": "stream",
     "text": [
      "책 제목은 점프투파이썬 입니다\n",
      "책 제목은 자바 기초 입니다\n"
     ]
    }
   ],
   "source": [
    "book1 = Book('점프투파이썬')\n",
    "book2 = Book('자바 기초')"
   ]
  },
  {
   "cell_type": "code",
   "execution_count": 101,
   "metadata": {},
   "outputs": [],
   "source": [
    "# 문제 2\n",
    "class Student:\n",
    "    def __init__(self, name, age):\n",
    "        self.name = name\n",
    "        self.age = age\n",
    "    \n",
    "    def s_info(self):\n",
    "        print(f'제 이름은 {self.name} 입니다. 나이는 {self.age}살 입니다.')\n",
    "        \n",
    "    # 소멸자 \n",
    "    def __del__(self):\n",
    "        print(f'{self.name}객체가 사라집니다.')"
   ]
  },
  {
   "cell_type": "code",
   "execution_count": 102,
   "metadata": {},
   "outputs": [
    {
     "name": "stdout",
     "output_type": "stream",
     "text": [
      "제 이름은 홍길동 입니다. 나이는 21살 입니다.\n",
      "제 이름은 강호동 입니다. 나이는 30살 입니다.\n",
      "홍길동객체가 사라집니다.\n"
     ]
    }
   ],
   "source": [
    "student1 = Student('홍길동', 21)\n",
    "student1.s_info()\n",
    "student2 = Student('강호동', 30)\n",
    "student2.s_info()\n",
    "type(student2.age)\n",
    "del student1"
   ]
  },
  {
   "cell_type": "code",
   "execution_count": 107,
   "metadata": {},
   "outputs": [],
   "source": [
    "# 문제 3\n",
    "class IceCream:\n",
    "    def __init__(self,name,price):\n",
    "        print(f'{name} 가격은 {price}원 입니다.')\n"
   ]
  },
  {
   "cell_type": "code",
   "execution_count": 108,
   "metadata": {},
   "outputs": [
    {
     "name": "stdout",
     "output_type": "stream",
     "text": [
      "옥동자 가격은 1200원 입니다.\n",
      "붕어싸만코 가격은 2000원 입니다.\n"
     ]
    }
   ],
   "source": [
    "ice1=IceCream('옥동자', 1200)\n",
    "ice2=IceCream('붕어싸만코', 2000)"
   ]
  }
 ],
 "metadata": {
  "kernelspec": {
   "display_name": "Python 3",
   "language": "python",
   "name": "python3"
  },
  "language_info": {
   "codemirror_mode": {
    "name": "ipython",
    "version": 3
   },
   "file_extension": ".py",
   "mimetype": "text/x-python",
   "name": "python",
   "nbconvert_exporter": "python",
   "pygments_lexer": "ipython3",
   "version": "3.7.7"
  }
 },
 "nbformat": 4,
 "nbformat_minor": 4
}
