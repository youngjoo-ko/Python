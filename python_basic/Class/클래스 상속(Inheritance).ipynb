{
 "cells": [
  {
   "cell_type": "markdown",
   "metadata": {},
   "source": [
    "## 클래스 상속(Class Inheritance)\n",
    "* 기존에 정의해둔 클래스의 기능을 그대로 물려받을 수 있는 기능\n",
    "* 기존 클래스에 일부 기능을 추가 또는 변경하여 새로운 클래스를 정의한다\n",
    "* 코드 재사용이 가능하다\n",
    "* 상속 받고자하는 대상인 기존 클래스는 Parent, Super, Base Class라고 한다\n",
    "* 상속 받는 새로운 클래스는 Child, Sub, Derived Class 라고 한다"
   ]
  },
  {
   "cell_type": "code",
   "execution_count": 42,
   "metadata": {},
   "outputs": [],
   "source": [
    "class Car:\n",
    "    \"\"\"Parent Class\"\"\"\n",
    "    def __init__(self, _type, color):\n",
    "        self._type = _type\n",
    "        self.color = color\n",
    "        \n",
    "    def show(self):\n",
    "        print(\"Car class 'show' Method\")\n",
    "        \n",
    "class BmwCar(Car): # 자식 클래스 괄호안에 부모클래스명을 적으면 상속 받을 수 있다(type, color 등)\n",
    "    \"\"\"Sub Class\"\"\"\n",
    "    def __init__(self, car_name, _type, color): \n",
    "        super().__init__(_type, color) # 부모클래스의 생성자를 호출(속성을 상속받아 씀)\n",
    "        self.car_name = car_name # 속성을 하나 더 추가\n",
    "    \n",
    "    def show_model(self):\n",
    "        print(\"Your Car name: %s\" %self.car_name) # 메소드 추가\n",
    "        \n",
    "class BenzCar(Car):\n",
    "    def __init__(self, car_name, _type, color):\n",
    "        super().__init__(_type, color)\n",
    "        self.car_name = car_name\n",
    "\n",
    "    def show(self): # 부모클래스와 같은 이름의 메소드를 추가하는 경우, 자식클래스의 메소드가 오버라이드 된다\n",
    "#         super().show() # 이런 방법으로 부모클래스의 show 메소드를 호출할 수도 있다\n",
    "        print(\"BenzCar class 'show' Method\")\n",
    "    \n",
    "    def show_model(self):\n",
    "        print(\"Your Car name: %s\" %self.car_name) # 기능 추가\n",
    "    "
   ]
  },
  {
   "cell_type": "code",
   "execution_count": 17,
   "metadata": {},
   "outputs": [
    {
     "name": "stdout",
     "output_type": "stream",
     "text": [
      "520d\n",
      "sedan\n",
      "black\n",
      "Car class 'show' Method\n"
     ]
    }
   ],
   "source": [
    "mine1 = BmwCar('520d', 'sedan', 'black')\n",
    "print(mine1.car_name) # 부모에게 없고, 자식에만 있는 속성\n",
    "print(mine1._type) # 상속받은 속성\n",
    "print(mine1.color)\n",
    "mine1.show()"
   ]
  },
  {
   "cell_type": "code",
   "execution_count": 43,
   "metadata": {},
   "outputs": [
    {
     "name": "stdout",
     "output_type": "stream",
     "text": [
      "Your Car name: c01\n",
      "BenzCar class 'show' Method\n",
      "gray\n",
      "sedan\n"
     ]
    }
   ],
   "source": [
    "mine2 = BenzCar('c01', 'sedan', 'gray')\n",
    "mine2.show_model()\n",
    "mine2.show()\n",
    "print(mine2.color)\n",
    "print(mine2._type)"
   ]
  },
  {
   "cell_type": "code",
   "execution_count": 48,
   "metadata": {},
   "outputs": [
    {
     "name": "stdout",
     "output_type": "stream",
     "text": [
      "sing a song\n"
     ]
    }
   ],
   "source": [
    "class Parent:\n",
    "    def singing(self):\n",
    "        print('sing a song')\n",
    "        \n",
    "father = Parent()\n",
    "father.singing()"
   ]
  },
  {
   "cell_type": "code",
   "execution_count": 45,
   "metadata": {},
   "outputs": [
    {
     "name": "stdout",
     "output_type": "stream",
     "text": [
      "sing a song\n"
     ]
    }
   ],
   "source": [
    "class Child(Parent):\n",
    "    pass            # 어떤 기능 추가도 없이 부모클래스의 기능들을 상속받을 수도 있다\n",
    "\n",
    "child = Child()\n",
    "child.singing()"
   ]
  },
  {
   "cell_type": "markdown",
   "metadata": {},
   "source": [
    "## 다중상속\n",
    "* 모든 객체의 최상위 부모 = object\n",
    "    - object는 생략 가능\n",
    "    - e.g) class X(object): => class X(): => class X:"
   ]
  },
  {
   "cell_type": "code",
   "execution_count": 51,
   "metadata": {},
   "outputs": [
    {
     "name": "stdout",
     "output_type": "stream",
     "text": [
      "[<class '__main__.A'>, <class '__main__.X'>, <class '__main__.Y'>, <class 'object'>]\n",
      "[<class '__main__.M'>, <class '__main__.B'>, <class '__main__.A'>, <class '__main__.X'>, <class '__main__.Y'>, <class '__main__.Z'>, <class 'object'>]\n"
     ]
    }
   ],
   "source": [
    "class X:\n",
    "    pass\n",
    "\n",
    "class Y:\n",
    "    pass\n",
    "\n",
    "class Z:\n",
    "    pass\n",
    "\n",
    "class A(X,Y): # X,Y클래스로 부터 상속받음\n",
    "    pass\n",
    "\n",
    "class B(Y,Z):\n",
    "    pass\n",
    "\n",
    "class M(B, A, Z):  # 너무 많은 다중상속은 코드 가독성이 떨어지므로 주의!!!!\n",
    "    pass\n",
    "    \n",
    "# .mro : inheritance의 정보를 확인할 수 있는 함수(상속정보를 리스트로 반환)\n",
    "print(A.mro())\n",
    "print(M.mro())"
   ]
  }
 ],
 "metadata": {
  "kernelspec": {
   "display_name": "Python 3",
   "language": "python",
   "name": "python3"
  },
  "language_info": {
   "codemirror_mode": {
    "name": "ipython",
    "version": 3
   },
   "file_extension": ".py",
   "mimetype": "text/x-python",
   "name": "python",
   "nbconvert_exporter": "python",
   "pygments_lexer": "ipython3",
   "version": "3.7.7"
  }
 },
 "nbformat": 4,
 "nbformat_minor": 4
}
