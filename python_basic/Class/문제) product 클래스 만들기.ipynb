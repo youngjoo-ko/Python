{
 "cells": [
  {
   "cell_type": "code",
   "execution_count": 68,
   "metadata": {},
   "outputs": [],
   "source": [
    "class Product:\n",
    "    sale_price = 0\n",
    "    \n",
    "    def __init__(self, category, code, name, price):\n",
    "        self.category = category\n",
    "        self.code = code\n",
    "        self.name = name \n",
    "        self.price = price\n",
    "    \n",
    "    def info(self):\n",
    "        print('<상품 상세정보>')\n",
    "        print(f'상품분류: {self.category}')\n",
    "        print(f'상품코드: {self.code}')\n",
    "        print(f'상품명: {self.name}')\n",
    "        print(f'상품가격: {self.price}')\n",
    "        \n",
    "    def sale_info(self, s_price):\n",
    "        Product.sale_price = s_price\n",
    "        print('<상품 할인정보>')\n",
    "        print(f'상품명: {self.name}')\n",
    "        print(f'원가: {self.price}')\n",
    "        print(f'세일가: {s_price}') #Product.sale_price도 가능"
   ]
  },
  {
   "cell_type": "code",
   "execution_count": 69,
   "metadata": {},
   "outputs": [
    {
     "name": "stdout",
     "output_type": "stream",
     "text": [
      "<상품 상세정보>\n",
      "상품분류: 상의\n",
      "상품코드: 20200728\n",
      "상품명: 무지반팔티\n",
      "상품가격: 20000\n",
      "\n",
      "<상품 할인정보>\n",
      "상품명: 무지반팔티\n",
      "원가: 20000\n",
      "세일가: 10000\n"
     ]
    }
   ],
   "source": [
    "s_sleeve1 = Product('상의', 20200728, '무지반팔티', 20000)\n",
    "s_sleeve1.info()\n",
    "print()\n",
    "s_sleeve1.sale_info(10000)\n"
   ]
  },
  {
   "cell_type": "code",
   "execution_count": 14,
   "metadata": {},
   "outputs": [],
   "source": [
    "class Sale(Product):\n",
    "    def __init__(self, category, code, name, price, sale_price):\n",
    "        super().__init__(category, code, name, price)\n",
    "        self.sale_price = sale_price\n",
    "        \n",
    "    def sale_info(self):\n",
    "        print('<상품 할인정보>')\n",
    "        print(f'상품명: {self.name}')\n",
    "        print(f'원가: {self.price}')\n",
    "        print(f'세일가: {self.sale_price}')"
   ]
  },
  {
   "cell_type": "code",
   "execution_count": 17,
   "metadata": {
    "scrolled": true
   },
   "outputs": [
    {
     "name": "stdout",
     "output_type": "stream",
     "text": [
      "<상품 할인정보>\n",
      "상품명: 청바지\n",
      "원가: 30000\n",
      "세일가: 20000\n"
     ]
    }
   ],
   "source": [
    "pants1 = Sale('하의','202007281','청바지', 30000, 20000)\n",
    "pants1.sale_info()"
   ]
  },
  {
   "cell_type": "code",
   "execution_count": 30,
   "metadata": {},
   "outputs": [],
   "source": [
    "class Product2:\n",
    "    def __init__(self):\n",
    "        self.category = input('상품 카테고리를 입력하세요: ')\n",
    "        self.code = int(input('상품 코드를 입력하세요: '))\n",
    "        self.name = input('상품명을 입력하세요: ')\n",
    "        self.price = int(input('상품가격을 입력하세요: '))\n",
    "    \n",
    "    def info(self):\n",
    "        print('<상품 상세정보>')\n",
    "        print(f'상품분류: {self.category}')\n",
    "        print(f'상품코드: {self.code}')\n",
    "        print(f'상품명: {self.name}')\n",
    "        print(f'상품가격: {self.price}')"
   ]
  },
  {
   "cell_type": "code",
   "execution_count": 33,
   "metadata": {},
   "outputs": [
    {
     "name": "stdout",
     "output_type": "stream",
     "text": [
      "상품 카테고리를 입력하세요: 아우터\n",
      "상품 코드를 입력하세요: 2020072802\n",
      "상품명을 입력하세요: 자켓\n",
      "상품가격을 입력하세요: 50000\n"
     ]
    }
   ],
   "source": [
    "outer1 = Product2()"
   ]
  },
  {
   "cell_type": "code",
   "execution_count": 34,
   "metadata": {
    "scrolled": false
   },
   "outputs": [
    {
     "name": "stdout",
     "output_type": "stream",
     "text": [
      "<상품 상세정보>\n",
      "상품분류: 아우터\n",
      "상품코드: 2020072802\n",
      "상품명: 자켓\n",
      "상품가격: 50000\n"
     ]
    }
   ],
   "source": [
    "outer1.info()"
   ]
  },
  {
   "cell_type": "code",
   "execution_count": 35,
   "metadata": {},
   "outputs": [
    {
     "name": "stdout",
     "output_type": "stream",
     "text": [
      "[<__main__.Product object at 0x0000011E37B0E748>, <__main__.Sale object at 0x0000011E37BBDE08>, <__main__.Product2 object at 0x0000011E37BE2188>]\n"
     ]
    }
   ],
   "source": [
    "# 리스트안에 객체 담기\n",
    "p_list = []\n",
    "p_list.append(s_sleeve1)\n",
    "p_list.append(pants1)\n",
    "p_list.append(outer1)\n",
    "\n",
    "print(p_list) "
   ]
  },
  {
   "cell_type": "code",
   "execution_count": 41,
   "metadata": {},
   "outputs": [
    {
     "name": "stdout",
     "output_type": "stream",
     "text": [
      "<상품 상세정보>\n",
      "상품분류: 상의\n",
      "상품코드: 20200728\n",
      "상품명: 무지반팔티\n",
      "상품가격: 20000\n",
      "\n",
      "<상품 상세정보>\n",
      "상품분류: 하의\n",
      "상품코드: 202007281\n",
      "상품명: 청바지\n",
      "상품가격: 30000\n",
      "\n",
      "<상품 할인정보>\n",
      "상품명: 청바지\n",
      "원가: 30000\n",
      "세일가: 20000\n",
      "\n",
      "<상품 상세정보>\n",
      "상품분류: 아우터\n",
      "상품코드: 2020072802\n",
      "상품명: 자켓\n",
      "상품가격: 50000\n"
     ]
    }
   ],
   "source": [
    "# 리스트안에 있는 객체의 정보를 알고싶다면\n",
    "# 리스트의 인덱스로 접근하고 메소드를 호출하면 된다\n",
    "p_list[0].info()\n",
    "print()\n",
    "p_list[1].info()\n",
    "print()\n",
    "p_list[1].sale_info()\n",
    "print()\n",
    "p_list[2].info()"
   ]
  }
 ],
 "metadata": {
  "kernelspec": {
   "display_name": "Python 3",
   "language": "python",
   "name": "python3"
  },
  "language_info": {
   "codemirror_mode": {
    "name": "ipython",
    "version": 3
   },
   "file_extension": ".py",
   "mimetype": "text/x-python",
   "name": "python",
   "nbconvert_exporter": "python",
   "pygments_lexer": "ipython3",
   "version": "3.7.7"
  }
 },
 "nbformat": 4,
 "nbformat_minor": 4
}
