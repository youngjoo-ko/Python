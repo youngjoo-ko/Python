{
 "cells": [
  {
   "cell_type": "code",
   "execution_count": 8,
   "metadata": {},
   "outputs": [],
   "source": [
    "class Person:\n",
    "    def __init__(self):\n",
    "        print(self, 'is generated')\n",
    "        self.name = '손흥민'\n",
    "        self.age = 29\n",
    "        "
   ]
  },
  {
   "cell_type": "code",
   "execution_count": 9,
   "metadata": {},
   "outputs": [
    {
     "name": "stdout",
     "output_type": "stream",
     "text": [
      "<__main__.Person object at 0x000001C442AE3A08> is generated\n",
      "<__main__.Person object at 0x000001C442AE3A08>\n",
      "손흥민\n",
      "29\n"
     ]
    }
   ],
   "source": [
    "p1 = Person()\n",
    "print(p1) # 객체 껍데기\n",
    "print(p1.name)\n",
    "print(p1.age)"
   ]
  },
  {
   "cell_type": "code",
   "execution_count": 17,
   "metadata": {},
   "outputs": [
    {
     "name": "stdout",
     "output_type": "stream",
     "text": [
      "bob\n",
      "10\n"
     ]
    }
   ],
   "source": [
    "class Person2:\n",
    "    def __init__(self, name, age=10):\n",
    "        self.name = name\n",
    "        self.age = age\n",
    "\n",
    "p1 = Person2('bob', 50)\n",
    "p2 = Person2('john', 30)\n",
    "p3 = Person2('dean')\n",
    "\n",
    "print(p1.name)\n",
    "print(p3.age) # age 인수가 없기 때문에  함수의 디폴트 값으로 출력됨"
   ]
  },
  {
   "cell_type": "code",
   "execution_count": 26,
   "metadata": {},
   "outputs": [
    {
     "name": "stdout",
     "output_type": "stream",
     "text": [
      "나초는 잠을 잡니다\n"
     ]
    }
   ],
   "source": [
    "class Person3:\n",
    "    def __init__(self, name, age=10):\n",
    "        self.name = name\n",
    "        self.age = age\n",
    "        \n",
    "    def sleep(self):\n",
    "        print(self.name + '는 잠을 잡니다')\n",
    "        \n",
    "p4 = Person3('나초', 1)\n",
    "p5 = Person3('슈가', 2)\n",
    "\n",
    "p4.sleep()"
   ]
  },
  {
   "cell_type": "markdown",
   "metadata": {},
   "source": [
    "## method 정의\n",
    "* 멤버 함수라고도 하며, 해당 클래스의 object 에서만 호출 가능\n",
    "* 객체명, 메소드명 형태로 호출됨"
   ]
  },
  {
   "cell_type": "code",
   "execution_count": 27,
   "metadata": {},
   "outputs": [],
   "source": [
    "# 숫자의 증감\n",
    "class Counter:\n",
    "    def __init__(self):\n",
    "        self.num = 0\n",
    "        \n",
    "    def increment(self):\n",
    "        self.num += 1\n",
    "    \n",
    "    def reset(self):\n",
    "        self.num = 0\n",
    "    \n",
    "    def print_value(self):\n",
    "        print('현재값: ', self.num)"
   ]
  },
  {
   "cell_type": "code",
   "execution_count": 30,
   "metadata": {},
   "outputs": [
    {
     "name": "stdout",
     "output_type": "stream",
     "text": [
      "현재값:  0\n",
      "현재값:  3\n",
      "현재값:  0\n"
     ]
    }
   ],
   "source": [
    "c1 = Counter()\n",
    "c1.print_value()\n",
    "c1.increment()\n",
    "c1.increment()\n",
    "c1.increment()\n",
    "c1.print_value()\n",
    "c1.reset()\n",
    "c1.print_value()\n"
   ]
  }
 ],
 "metadata": {
  "kernelspec": {
   "display_name": "Python 3",
   "language": "python",
   "name": "python3"
  },
  "language_info": {
   "codemirror_mode": {
    "name": "ipython",
    "version": 3
   },
   "file_extension": ".py",
   "mimetype": "text/x-python",
   "name": "python",
   "nbconvert_exporter": "python",
   "pygments_lexer": "ipython3",
   "version": "3.7.7"
  }
 },
 "nbformat": 4,
 "nbformat_minor": 4
}
