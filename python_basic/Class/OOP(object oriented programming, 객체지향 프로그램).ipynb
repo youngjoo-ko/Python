{
 "cells": [
  {
   "cell_type": "markdown",
   "metadata": {},
   "source": [
    "## OOP\n",
    "* 절차지향 프로그래밍(구조적 프로그래밍)\n",
    "    e.g) c 프로그래밍\n",
    "    - 일을 처리하는 순서와 과정을 프로그래밍으로 구현\n",
    "    - procedure, process를 중시함\n",
    "    - 순서, 과정이 달라지면 새로운 작업 모델이 필요\n",
    "    - 재사용성이 낮다\n",
    "    \n",
    "* 객제치향 프로그래밍(OOP)\n",
    "  - 프로세스 중심이 아닌 객체 중심으로 프로그래밍\n",
    "  - 재사용성이 뛰어남, 쉬운 모듈화, 확장성이 좋다\n",
    "  - 인간의 현실세계를 프로그램에 반영한 것(사이버화)\n",
    "  - 즉, 현실세계에 존재하는 객체(object-물체, 물건, 사물)을 프로그램에 반영한 것\n",
    "      - 1) object : 모든 유무형의 물체(자전거, 책상, 집, 정치, 윤리, 사회, 대기환경 등)\n",
    "      - 2) object의 특징 : 속성(attribute)과 행위(behavior)를 갖는다\n",
    "      - 따라서, 프로그램에 객체를 반영할 때는 모델링(추상화) 작업이 필요(물체의 속성과 행위를 뽑아냄)\n",
    " \n",
    "* OOP 의 주요 특징\n",
    "   \n",
    "    1) 추상화 - Abstraction\n",
    "        - 어떤 물체의 특징을 부각시켜 표현, 나머지는 과감하게 생략하는 것\n",
    "    2) 은닉화 - Encapsulation(캡슐화)\n",
    "        - data를 캡슐화하고, 해당 data에 접근할 때 메소드로 접근하도록 하는 것\n",
    "    3) 다형성 - Polymorphism\n",
    "        - 오버라이딩(재정의, overriding) , 오버로딩\n",
    "    4) 상속성 - Inheritance\n",
    "        - 기존 클래스에 작은 기능이나 특징을 추가하여 새로운 클래스를 만드는 것"
   ]
  },
  {
   "cell_type": "code",
   "execution_count": 5,
   "metadata": {},
   "outputs": [],
   "source": [
    "# House 추상화\n",
    "# 속성 : 방 개수, 주인이름, 주소\n",
    "# 메소드 : 어느 위치에 있는지 출력\n",
    "\n",
    "class House:\n",
    "    # 생성자 init은 객체 생성 시 자동으로 호출되며, 객체의 속성값들을 초기화 함\n",
    "    def __init__(self, room, host, addr):\n",
    "        self.room=room\n",
    "        self.host=host\n",
    "        self.addr=addr\n",
    "    \n",
    "    def print_addr(self):\n",
    "        print(self.addr)\n",
    "        "
   ]
  },
  {
   "cell_type": "code",
   "execution_count": 7,
   "metadata": {
    "scrolled": true
   },
   "outputs": [
    {
     "name": "stdout",
     "output_type": "stream",
     "text": [
      "강남구 10\n"
     ]
    }
   ],
   "source": [
    "house1=House(3, '마리', '강남구 10')\n",
    "house1.print_addr()"
   ]
  },
  {
   "cell_type": "code",
   "execution_count": 8,
   "metadata": {},
   "outputs": [],
   "source": [
    "class User:\n",
    "    def __init__(self, name, age):\n",
    "        self.name=name\n",
    "        self.age=age\n",
    "    def print_info(self):\n",
    "        print('name: ', self.name)\n",
    "    def __del__(self):\n",
    "        print('instance removed')\n",
    "        "
   ]
  },
  {
   "cell_type": "code",
   "execution_count": 13,
   "metadata": {},
   "outputs": [
    {
     "name": "stdout",
     "output_type": "stream",
     "text": [
      "instance removed\n",
      "홍길동\n",
      "name:  홍길동\n",
      "25\n"
     ]
    }
   ],
   "source": [
    "user1=User('홍길동', 25)\n",
    "print(user1.name)\n",
    "user1.print_info()\n",
    "print(user1.age)"
   ]
  },
  {
   "cell_type": "markdown",
   "metadata": {},
   "source": [
    "## self의 이해\n",
    "* 메소드 = 클래스 내에 정의된 함수\n",
    "* 메소드의 첫번째 인수는 경우에 따라 self 일수도, 아닐수도 있다\n"
   ]
  },
  {
   "cell_type": "code",
   "execution_count": 14,
   "metadata": {},
   "outputs": [],
   "source": [
    "class Demo:\n",
    "    def method1(): # 클래스 변수\n",
    "        print(\"메소드1 호출\")\n",
    "    def method2(self): # 객체 변수            \n",
    "        print(\"메소드2 호출\")"
   ]
  },
  {
   "cell_type": "code",
   "execution_count": 21,
   "metadata": {},
   "outputs": [
    {
     "name": "stdout",
     "output_type": "stream",
     "text": [
      "메소드2 호출\n",
      "메소드1 호출\n"
     ]
    }
   ],
   "source": [
    "demo=Demo()\n",
    "demo.method2()\n",
    "# demo.method1() \n",
    "Demo.method1() # self가 없는 경우 클래스명으로 호출 할 수 있다\n"
   ]
  },
  {
   "cell_type": "markdown",
   "metadata": {},
   "source": [
    "## 클래스 네임스페이스\n",
    "**네임스페이스 : 변수와 객체와의 관계를 저장하는 공간**"
   ]
  },
  {
   "cell_type": "code",
   "execution_count": 22,
   "metadata": {},
   "outputs": [
    {
     "name": "stdout",
     "output_type": "stream",
     "text": [
      "['Demo', 'House', 'In', 'Out', 'User', '_', '_11', '_15', '_9', '__', '___', '__builtin__', '__builtins__', '__doc__', '__loader__', '__name__', '__package__', '__spec__', '_dh', '_i', '_i1', '_i10', '_i11', '_i12', '_i13', '_i14', '_i15', '_i16', '_i17', '_i18', '_i19', '_i2', '_i20', '_i21', '_i22', '_i3', '_i4', '_i5', '_i6', '_i7', '_i8', '_i9', '_ih', '_ii', '_iii', '_oh', 'demo', 'exit', 'get_ipython', 'house1', 'quit', 'user1']\n"
     ]
    }
   ],
   "source": [
    "print(dir())"
   ]
  },
  {
   "cell_type": "code",
   "execution_count": 23,
   "metadata": {},
   "outputs": [
    {
     "name": "stdout",
     "output_type": "stream",
     "text": [
      "{}\n"
     ]
    }
   ],
   "source": [
    "print(demo.__dict__) # 클래스 / 인스턴스 네임스페이스 확인"
   ]
  },
  {
   "cell_type": "code",
   "execution_count": 29,
   "metadata": {},
   "outputs": [],
   "source": [
    "class Demo2: \n",
    "    aa = '하이'"
   ]
  },
  {
   "cell_type": "code",
   "execution_count": 44,
   "metadata": {},
   "outputs": [
    {
     "name": "stdout",
     "output_type": "stream",
     "text": [
      "{}\n",
      "['__class__', '__delattr__', '__dict__', '__dir__', '__doc__', '__eq__', '__format__', '__ge__', '__getattribute__', '__gt__', '__hash__', '__init__', '__init_subclass__', '__le__', '__lt__', '__module__', '__ne__', '__new__', '__reduce__', '__reduce_ex__', '__repr__', '__setattr__', '__sizeof__', '__str__', '__subclasshook__', '__weakref__', 'aa']\n",
      "{'__module__': '__main__', 'aa': '하이', '__dict__': <attribute '__dict__' of 'Demo2' objects>, '__weakref__': <attribute '__weakref__' of 'Demo2' objects>, '__doc__': None}\n",
      "하이\n"
     ]
    }
   ],
   "source": [
    "demo2=Demo2()\n",
    "print(demo2.__dict__) \n",
    "# 객체 demo의 속성을 정의해주지 않았기 때문에 비어있다\n",
    "print(dir(Demo2))\n",
    "print(Demo2.__dict__)\n",
    "print(Demo2.aa)"
   ]
  },
  {
   "cell_type": "code",
   "execution_count": 41,
   "metadata": {},
   "outputs": [],
   "source": [
    "class Demo3:\n",
    "    def __init__(self):\n",
    "        self.aa = '하이하이'"
   ]
  },
  {
   "cell_type": "code",
   "execution_count": 91,
   "metadata": {
    "scrolled": true
   },
   "outputs": [
    {
     "name": "stdout",
     "output_type": "stream",
     "text": [
      "{'aa': '하이하이'}\n",
      "{'__module__': '__main__', '__init__': <function Demo3.__init__ at 0x000002736CB07048>, '__dict__': <attribute '__dict__' of 'Demo3' objects>, '__weakref__': <attribute '__weakref__' of 'Demo3' objects>, '__doc__': None}\n",
      "하이하이\n"
     ]
    }
   ],
   "source": [
    "# 이번엔 객체를 만들어 속성을 정의해보았다\n",
    "demo3=Demo3()\n",
    "print(demo3.__dict__)\n",
    "# demo3 객체 안에 있는 네임스페이스를 확인할 수 있다 \n",
    "print(Demo3.__dict__)\n",
    "# 하이하이는 인스턴스안의 변수이기 때문에 나오지 않는다\n",
    "print(demo3.aa)"
   ]
  },
  {
   "cell_type": "code",
   "execution_count": 121,
   "metadata": {},
   "outputs": [],
   "source": [
    "class Book:\n",
    "    name = 'python'\n",
    "    \n",
    "    def set_info(self, name):\n",
    "        self.name=name"
   ]
  },
  {
   "cell_type": "code",
   "execution_count": 53,
   "metadata": {},
   "outputs": [
    {
     "data": {
      "text/plain": [
       "mappingproxy({'__module__': '__main__',\n",
       "              'name': 'python',\n",
       "              'set_info': <function __main__.Book.set_info(self, name)>,\n",
       "              '__dict__': <attribute '__dict__' of 'Book' objects>,\n",
       "              '__weakref__': <attribute '__weakref__' of 'Book' objects>,\n",
       "              '__doc__': None})"
      ]
     },
     "execution_count": 53,
     "metadata": {},
     "output_type": "execute_result"
    }
   ],
   "source": [
    "Book.__dict__ \n",
    "# 클래스 안의 멤버들을 확인할 수 있다\n",
    "# 따라서 클래스 변수인 name의 값을 확인할 수 있다"
   ]
  },
  {
   "cell_type": "code",
   "execution_count": 122,
   "metadata": {
    "scrolled": false
   },
   "outputs": [
    {
     "name": "stdout",
     "output_type": "stream",
     "text": [
      "{'name': 'java'}\n",
      "{}\n"
     ]
    }
   ],
   "source": [
    "book1=Book()\n",
    "book1.set_info('java')\n",
    "book2=Book()\n",
    "print(book1.__dict__)\n",
    "print(book2.__dict__)"
   ]
  },
  {
   "cell_type": "code",
   "execution_count": 59,
   "metadata": {
    "scrolled": true
   },
   "outputs": [
    {
     "name": "stdout",
     "output_type": "stream",
     "text": [
      "python\n",
      "java\n",
      "python\n"
     ]
    }
   ],
   "source": [
    "print(Book.name)\n",
    "print(book1.name)\n",
    "print(book2.name) # book2의 name은 정의되지 않았기 때문에 부모클래스의 name값을 가져온다"
   ]
  },
  {
   "cell_type": "markdown",
   "metadata": {},
   "source": [
    "## 클래스 변수 & 인스턴스 변수"
   ]
  },
  {
   "cell_type": "code",
   "execution_count": 125,
   "metadata": {},
   "outputs": [],
   "source": [
    "class Employee:\n",
    "    empcnt = 0 # 클래스 변수 : 클래스로 만든 모든 객체에 공유된다\n",
    "    \n",
    "    def __init__(self, name, age):\n",
    "        self.name=name # self가 붙었기 때문에 인스턴스 변수\n",
    "        self.age=age\n",
    "        Employee.empcnt += 1  # 클래변수 접근 : 클래스명.클래스변수명\n",
    "        \n",
    "    def emp_info(self):\n",
    "        print(\"name: \", self.name, \"age: \", self.age)\n",
    "        \n",
    "    def emp_cnt(self):\n",
    "        print(\"전체 종업원의 수는 %d명 입니다.\" %Employee.empcnt)"
   ]
  },
  {
   "cell_type": "code",
   "execution_count": 62,
   "metadata": {
    "scrolled": true
   },
   "outputs": [
    {
     "data": {
      "text/plain": [
       "mappingproxy({'__module__': '__main__',\n",
       "              'emp_cnt': <function __main__.Employee.emp_cnt(self)>,\n",
       "              '__init__': <function __main__.Employee.__init__(self, name, age)>,\n",
       "              'emp_info': <function __main__.Employee.emp_info(self)>,\n",
       "              '__dict__': <attribute '__dict__' of 'Employee' objects>,\n",
       "              '__weakref__': <attribute '__weakref__' of 'Employee' objects>,\n",
       "              '__doc__': None})"
      ]
     },
     "execution_count": 62,
     "metadata": {},
     "output_type": "execute_result"
    }
   ],
   "source": [
    "Employee.__dict__"
   ]
  },
  {
   "cell_type": "code",
   "execution_count": 126,
   "metadata": {
    "scrolled": true
   },
   "outputs": [],
   "source": [
    "emp1 = Employee('홍길동', 20)\n",
    "emp2 = Employee('김영희', 21)\n"
   ]
  },
  {
   "cell_type": "code",
   "execution_count": 127,
   "metadata": {},
   "outputs": [
    {
     "name": "stdout",
     "output_type": "stream",
     "text": [
      "{'name': '홍길동', 'age': 20}\n",
      "{'name': '김영희', 'age': 21}\n",
      "홍길동\n",
      "2\n",
      "전체 종업원의 수는 2명 입니다.\n",
      "전체 종업원의 수는 2명 입니다.\n"
     ]
    }
   ],
   "source": [
    "print(emp1.__dict__)\n",
    "print(emp2.__dict__)\n",
    "print(emp1.name)\n",
    "print(Employee.empcnt)\n",
    "emp2.emp_cnt() # 클래스 변수가 공유되었기 때문에 emp1 이든 emp2 이든 같은 값이 나온다\n",
    "emp1.emp_cnt()"
   ]
  },
  {
   "cell_type": "code",
   "execution_count": 163,
   "metadata": {},
   "outputs": [],
   "source": [
    "# [문제] 국민은행의 계좌 개설 또는 해지 시 계좌의 갯수를 파악할 수 있는 클래스를 정의하시오.\n",
    "# 클래스명: Account , 속성 : 계좌의 이름\n",
    "\n",
    "class Account:\n",
    "    a_cnt = 0\n",
    "    def __init__(self, name):\n",
    "        self.name = name\n",
    "    \n",
    "    def a_open(self):\n",
    "        Account.a_cnt += 1\n",
    "#         print(f'{self.name}계좌가 개설되었습니다. 계좌의 갯수는 {Account.a_cnt} 입니다.')\n",
    "        print(\"{0} 계좌가 개설되었습니다. 계좌의 갯수는 {1} 입니다.\".format(self.name, Account.a_cnt))\n",
    "    def a_del(self):\n",
    "        Account.a_cnt -= 1\n",
    "#         print(f'{self.name} 계좌가 해지되었습니다. 계좌의 갯수는 {Account.a_cnt} 입니다.')\n",
    "        print(\"{0} 계좌가 개설되었습니다. 계좌의 갯수는 {1} 입니다.\".format(self.name, Account.a_cnt))"
   ]
  },
  {
   "cell_type": "code",
   "execution_count": 164,
   "metadata": {},
   "outputs": [],
   "source": [
    "acount1 = Account('주거래')\n",
    "acount2 = Account('급여')\n",
    "acount3 = Account('공과금')\n",
    "acount4 = Account('적금')"
   ]
  },
  {
   "cell_type": "code",
   "execution_count": 165,
   "metadata": {},
   "outputs": [
    {
     "name": "stdout",
     "output_type": "stream",
     "text": [
      "주거래 계좌가 개설되었습니다. 계좌의 갯수는 1 입니다.\n",
      "급여 계좌가 개설되었습니다. 계좌의 갯수는 2 입니다.\n",
      "공과금 계좌가 개설되었습니다. 계좌의 갯수는 3 입니다.\n",
      "적금 계좌가 개설되었습니다. 계좌의 갯수는 4 입니다.\n"
     ]
    }
   ],
   "source": [
    "acount1.a_open()\n",
    "acount2.a_open()\n",
    "acount3.a_open()\n",
    "acount4.a_open()"
   ]
  },
  {
   "cell_type": "code",
   "execution_count": 166,
   "metadata": {},
   "outputs": [
    {
     "name": "stdout",
     "output_type": "stream",
     "text": [
      "주거래 계좌가 개설되었습니다. 계좌의 갯수는 3 입니다.\n"
     ]
    }
   ],
   "source": [
    "acount1.a_del()"
   ]
  }
 ],
 "metadata": {
  "kernelspec": {
   "display_name": "Python 3",
   "language": "python",
   "name": "python3"
  },
  "language_info": {
   "codemirror_mode": {
    "name": "ipython",
    "version": 3
   },
   "file_extension": ".py",
   "mimetype": "text/x-python",
   "name": "python",
   "nbconvert_exporter": "python",
   "pygments_lexer": "ipython3",
   "version": "3.7.7"
  }
 },
 "nbformat": 4,
 "nbformat_minor": 4
}
