{
 "cells": [
  {
   "cell_type": "markdown",
   "metadata": {},
   "source": [
    "## 상속을 의미적으로 is-a 관계라고 한다\n",
    "* Student is a Person\n",
    "* Employee is a Person"
   ]
  },
  {
   "cell_type": "code",
   "execution_count": 35,
   "metadata": {},
   "outputs": [],
   "source": [
    "# [문제] Person 클래스를 정의하시오.\n",
    "# (속성 : name, age / 메소드: eat, sleep, work)\n",
    "\n",
    "class Person:\n",
    "    def __init__(self, name, age):\n",
    "        self.name = name\n",
    "        self.age = age\n",
    "        \n",
    "    def eat(self, food):\n",
    "        print(f'{self.name} 은(는) {food}를 먹습니다.')\n",
    "        \n",
    "    def sleep(self, time):\n",
    "        print(f'{self.name} 은(는) {time}분 동안 잠을 잡니다.')\n",
    "        \n",
    "    def work(self, time):\n",
    "        print(f'{self.name} 은(는) {time}분 동안 일을 합니다.')\n",
    "        \n"
   ]
  },
  {
   "cell_type": "code",
   "execution_count": 22,
   "metadata": {},
   "outputs": [
    {
     "name": "stdout",
     "output_type": "stream",
     "text": [
      "홍길동 은(는) 김치찌개를 먹습니다.\n",
      "홍길동 은(는) 60분 동안 잠을 잡니다.\n"
     ]
    }
   ],
   "source": [
    "p1 = Person('홍길동', 39)\n",
    "p1.eat('김치찌개')\n",
    "p1.sleep(60)"
   ]
  },
  {
   "cell_type": "code",
   "execution_count": 25,
   "metadata": {},
   "outputs": [],
   "source": [
    "# [문제2] 위에서 정의한 Person 클래스를 상속받는 객체 student, employee 를 만들어보시오.\n",
    "\n",
    "class Student(Person):\n",
    "    pass  # Person 클래스의 있는 속성, 메소드를 그대로 상속받기 때문에 pass만 쓰면 된다\n",
    "        \n",
    "class Employee(Person):\n",
    "    pass"
   ]
  },
  {
   "cell_type": "code",
   "execution_count": 26,
   "metadata": {},
   "outputs": [
    {
     "name": "stdout",
     "output_type": "stream",
     "text": [
      "김철수\n",
      "유재석\n",
      "김영희 은(는) 피자를 먹습니다.\n",
      "유재석 은(는) 120분 동안 잠을 잡니다.\n",
      "유재석 은(는) 300분 동안 일을 합니다.\n"
     ]
    }
   ],
   "source": [
    "st1 = Student('김철수', 17)\n",
    "st2 = Student('김영희', 17)\n",
    "emp1 = Employee('홍길동', 39)\n",
    "emp2 = Employee('유재석', 45)\n",
    "print(st1.name)\n",
    "print(emp2.name)\n",
    "st2.eat('피자')\n",
    "emp2.sleep(120)\n",
    "emp2.work(300)"
   ]
  },
  {
   "cell_type": "code",
   "execution_count": 38,
   "metadata": {},
   "outputs": [],
   "source": [
    "# work() 호출 시 학생은 공부를 하고, 직장인은 사무를 보도록 하시오.\n",
    "class Student(Person):\n",
    "    def work(self, time): # 메소드 오버라이드(나머지 메소드는 가져올 필요가 없다)\n",
    "        print(f'{self.name} 은(는) {time}분 동안 공부를 합니다.')\n",
    "        \n",
    "class Employee(Person):\n",
    "    def work(self, time):\n",
    "        print(f'{self.name} 은(는) {time}분 동안 사무를 봅니다.')\n",
    "        \n"
   ]
  },
  {
   "cell_type": "code",
   "execution_count": 42,
   "metadata": {},
   "outputs": [
    {
     "name": "stdout",
     "output_type": "stream",
     "text": [
      "이해리 은(는) 120분 동안 공부를 합니다.\n",
      "강호동 은(는) 300분 동안 사무를 봅니다.\n"
     ]
    }
   ],
   "source": [
    "st3 = Student('이해리', 19)\n",
    "emp3 = Employee('강호동', 40)\n",
    "st3.work(120)\n",
    "emp3.work(300)"
   ]
  },
  {
   "cell_type": "code",
   "execution_count": 49,
   "metadata": {},
   "outputs": [],
   "source": [
    "# 학생이 아르바이트, 공부를 병행할 경우\n",
    "# work 호출 시 \"학생1은 a분 동안 일을합니다.\" & \"그리고 b분 동안 공부도 합니다\" 를 출력하도록 하시오.\n",
    "\n",
    "class Student(Person):\n",
    "    def work(self, time): \n",
    "        super().work(time)  # 부모클래스의 메소드 work()를 그대로 가져오기 위해 사용\n",
    "        print(f'그리고 {time}분 동안 공부도 합니다.')"
   ]
  },
  {
   "cell_type": "code",
   "execution_count": 50,
   "metadata": {},
   "outputs": [
    {
     "name": "stdout",
     "output_type": "stream",
     "text": [
      "김말똥 은(는) 300분 동안 일을 합니다.\n",
      "그리고 300분 동안 공부도 합니다.\n"
     ]
    }
   ],
   "source": [
    "st4 = Student('김말똥', 20)\n",
    "st4.work(300)"
   ]
  },
  {
   "cell_type": "code",
   "execution_count": 53,
   "metadata": {},
   "outputs": [],
   "source": [
    "# 이름, 나이, 학번을 속성으로 갖는 Student 객체를 생성하시오.\n",
    "class Student(Person):\n",
    "    def __init__(self, name, age, stu_num):\n",
    "        super().__init__(name, age)\n",
    "        self.stu_num = stu_num"
   ]
  },
  {
   "cell_type": "code",
   "execution_count": 55,
   "metadata": {},
   "outputs": [
    {
     "data": {
      "text/plain": [
       "202003"
      ]
     },
     "execution_count": 55,
     "metadata": {},
     "output_type": "execute_result"
    }
   ],
   "source": [
    "st5 = Student('김길동', 22, 202003)\n",
    "st5.stu_num"
   ]
  },
  {
   "cell_type": "code",
   "execution_count": 57,
   "metadata": {},
   "outputs": [],
   "source": [
    "class Phone:\n",
    "    def __init__(self, maker, details):\n",
    "        self.maker = maker\n",
    "        self.details = details\n",
    "    \n",
    "    def phone_info(self):\n",
    "        return f'{self.maker}: {self.details}'\n",
    "    \n",
    "    "
   ]
  },
  {
   "cell_type": "code",
   "execution_count": 64,
   "metadata": {},
   "outputs": [
    {
     "name": "stdout",
     "output_type": "stream",
     "text": [
      "pro 11\n",
      "150만\n"
     ]
    }
   ],
   "source": [
    "# 스마트폰 객체를 만드시오. (details는 color, price)\n",
    "# details는 color, price\n",
    "\n",
    "#딕셔너리 타입을 이용해디테일 속성안에 2가지 요소를 넣음\n",
    "apple = Phone('pro 11', {'color':'gold', 'price':'150만'}) \n",
    "apple.phone_info()\n",
    "\n",
    "#메이커만 출력\n",
    "print(apple.maker)\n",
    "\n",
    "#가격만 출력\n",
    "print(apple.details['price'])"
   ]
  }
 ],
 "metadata": {
  "kernelspec": {
   "display_name": "Python 3",
   "language": "python",
   "name": "python3"
  },
  "language_info": {
   "codemirror_mode": {
    "name": "ipython",
    "version": 3
   },
   "file_extension": ".py",
   "mimetype": "text/x-python",
   "name": "python",
   "nbconvert_exporter": "python",
   "pygments_lexer": "ipython3",
   "version": "3.7.7"
  }
 },
 "nbformat": 4,
 "nbformat_minor": 4
}
