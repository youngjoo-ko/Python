{
 "cells": [
  {
   "cell_type": "markdown",
   "metadata": {},
   "source": [
    "## 예외처리 기본 구문\n",
    "\n",
    "#### try : \n",
    "에러 발생이 예상되는 코드를 실행하는 블록(개수 제한 없다)\n",
    "#### except 에러명1 : \n",
    "-만약 try 블록에서 특정에러가 발생하면 해당 에러를 받아서 처리해주는 블록(개수 제한이 없다)\n",
    "\n",
    "#### else : \n",
    "try블록에서 에러가 없을 경우 실행되는 블록\n",
    "\n",
    "#### fi : \n",
    "반드시 수행되는 블록"
   ]
  },
  {
   "cell_type": "code",
   "execution_count": 4,
   "metadata": {},
   "outputs": [
    {
     "name": "stdout",
     "output_type": "stream",
     "text": [
      "에러 발생\n",
      "참조할 value값이 없습니다\n"
     ]
    }
   ],
   "source": [
    "# 예제 1\n",
    "city = ['Seoul', 'Inchoen', 'Daegu']\n",
    "\n",
    "try:    \n",
    "    a = 'Jeju'\n",
    "    b = city.index(a)\n",
    "    print(f'{b}는 대한민국의 도시입니다.')\n",
    "    \n",
    "except ValueError: # 에러명을 적지 않거나, Exception을 적는 경우, 모든 에러를 처리함\n",
    "    print('에러 발생')\n",
    "    print('참조할 value값이 없습니다')\n",
    "\n",
    "else:\n",
    "    print('ok')"
   ]
  },
  {
   "cell_type": "code",
   "execution_count": 7,
   "metadata": {
    "scrolled": true
   },
   "outputs": [
    {
     "name": "stdout",
     "output_type": "stream",
     "text": [
      "'Jeju' is not in list\n",
      "finally 블록은 반드시 실행된다\n"
     ]
    }
   ],
   "source": [
    "city = ['Seoul', 'Inchoen', 'Daegu']\n",
    "\n",
    "try:    \n",
    "    a = 'Jeju'\n",
    "    b = city.index(a)\n",
    "    print(f'{b}는 대한민국의 도시입니다.')\n",
    "    \n",
    "except Exception as e: \n",
    "    print(e)\n",
    "# 에러를 e로 받아 에러가 발생한 이유에 대해 출력한다\n",
    "    \n",
    "else:\n",
    "    print('ok')\n",
    "    \n",
    "finally:\n",
    "    print('finally 블록은 반드시 실행된다')"
   ]
  },
  {
   "cell_type": "code",
   "execution_count": 46,
   "metadata": {},
   "outputs": [
    {
     "name": "stdout",
     "output_type": "stream",
     "text": [
      "finally 블록은 반드시 실행된다\n"
     ]
    }
   ],
   "source": [
    "city = ['Seoul', 'Inchoen', 'Daegu']\n",
    "\n",
    "try:    \n",
    "    a = 'Jeju'\n",
    "    b = city.index(a)\n",
    "    print(f'{b}는 대한민국의 도시입니다.')\n",
    "    \n",
    "except: #Exception 생략된것과 같음\n",
    "    pass # 임시로 에러를 해결할 경우 예외처리\n",
    "\n",
    "else:\n",
    "    print('ok')\n",
    "\n",
    "finally:\n",
    "    print('finally 블록은 반드시 실행된다')"
   ]
  },
  {
   "cell_type": "code",
   "execution_count": 49,
   "metadata": {},
   "outputs": [
    {
     "name": "stdout",
     "output_type": "stream",
     "text": [
      "참조 value가 잘못되었습니다\n",
      "finally 블록은 반드시 실행된다\n"
     ]
    }
   ],
   "source": [
    "try:\n",
    "    city = ['Seoul', 'Inchoen', 'Daegu']\n",
    "    a = 'Jeju'\n",
    "    b = city.index(a)\n",
    "    print(f'{b}는 대한민국의 도시입니다.')\n",
    "\n",
    "    \n",
    "except ValueError:\n",
    "    print('참조 value가 잘못되었습니다')\n",
    "# ValueError가 발생하면 이 블록에서 처리하고, finally 블록을 수행한다\n",
    "    \n",
    "except IndexError:\n",
    "    print('IndexError 입니다')\n",
    "# ValueError가 발생해서 위 블록이 수행되면, IndexError 처리 블록이 수행되지 않는다   \n",
    "\n",
    "except:\n",
    "    print('에러 발생')\n",
    "# 예상 가능한 에러를 먼저 적고, 이 블록은 맨 밑에 적어준다\n",
    "\n",
    "else:\n",
    "    print('ok')\n",
    "\n",
    "finally:\n",
    "    print('finally 블록은 반드시 실행된다')\n",
    "    "
   ]
  },
  {
   "cell_type": "code",
   "execution_count": 8,
   "metadata": {},
   "outputs": [
    {
     "name": "stdout",
     "output_type": "stream",
     "text": [
      "에러 예상 코드\n",
      "finally 블록은 반드시 실행된다\n"
     ]
    }
   ],
   "source": [
    "try:\n",
    "    print('에러 예상 코드')\n",
    "    \n",
    "finally:\n",
    "    print('finally 블록은 반드시 실행된다')"
   ]
  },
  {
   "cell_type": "code",
   "execution_count": 51,
   "metadata": {},
   "outputs": [
    {
     "name": "stdout",
     "output_type": "stream",
     "text": [
      "파일이 없습니다\n"
     ]
    }
   ],
   "source": [
    "# 예외처리 연습\n",
    "try:\n",
    "    f = open('./kamil.txt', 'r', encoding='utf8')\n",
    "    \n",
    "except FileNotFoundError:\n",
    "    print('파일이 없습니다')\n",
    "    \n",
    "finally:\n",
    "    f.close()"
   ]
  },
  {
   "cell_type": "code",
   "execution_count": 41,
   "metadata": {
    "scrolled": true
   },
   "outputs": [
    {
     "name": "stdout",
     "output_type": "stream",
     "text": [
      "[Errno 2] No such file or directory: './kamil.txt'\n"
     ]
    }
   ],
   "source": [
    "# 예외처리 연습2\n",
    "\n",
    "try:\n",
    "    f = open('./kamil.txt', 'r', encoding='utf8')\n",
    "    try:\n",
    "        data = f.readlines()\n",
    "        print(data)\n",
    "    finally:\n",
    "        f.close()\n",
    "except IOError as e:\n",
    "    print(e)\n"
   ]
  },
  {
   "cell_type": "code",
   "execution_count": 43,
   "metadata": {},
   "outputs": [
    {
     "name": "stdout",
     "output_type": "stream",
     "text": [
      "[Errno 2] No such file or directory: './kamil.txt'\n"
     ]
    }
   ],
   "source": [
    "try:\n",
    "    with open('./kamil.txt', 'r', encoding='utf8') as f:\n",
    "        data = f.readlines()\n",
    "        print(data)\n",
    "        \n",
    "except IOError as e:\n",
    "    print(e)"
   ]
  },
  {
   "cell_type": "code",
   "execution_count": 45,
   "metadata": {},
   "outputs": [
    {
     "name": "stdout",
     "output_type": "stream",
     "text": [
      "승인 거절\n"
     ]
    }
   ],
   "source": [
    "# 의도적 예외 발생시키기(raise)\n",
    "try:\n",
    "    id = 'Kim'\n",
    "    if id == 'Ko':\n",
    "        print('승인 완료')\n",
    "    else:\n",
    "        raise ValueError\n",
    "\n",
    "except ValueError:\n",
    "    print('승인 거절')\n",
    "    \n",
    "except:\n",
    "    print('예외 발생')\n",
    "\n",
    "else:\n",
    "    print('승인 완료22')"
   ]
  }
 ],
 "metadata": {
  "kernelspec": {
   "display_name": "Python 3",
   "language": "python",
   "name": "python3"
  },
  "language_info": {
   "codemirror_mode": {
    "name": "ipython",
    "version": 3
   },
   "file_extension": ".py",
   "mimetype": "text/x-python",
   "name": "python",
   "nbconvert_exporter": "python",
   "pygments_lexer": "ipython3",
   "version": "3.7.7"
  }
 },
 "nbformat": 4,
 "nbformat_minor": 4
}
