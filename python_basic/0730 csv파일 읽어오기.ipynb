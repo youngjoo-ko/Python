{
 "cells": [
  {
   "cell_type": "markdown",
   "metadata": {},
   "source": [
    "## csv파일 읽어오기\n",
    "\n",
    "import csv "
   ]
  },
  {
   "cell_type": "code",
   "execution_count": 6,
   "metadata": {
    "scrolled": true
   },
   "outputs": [
    {
     "name": "stdout",
     "output_type": "stream",
     "text": [
      "<_csv.reader object at 0x0000017896DC6AC8>\n",
      "<class '_csv.reader'>\n",
      "['__class__', '__delattr__', '__dir__', '__doc__', '__eq__', '__format__', '__ge__', '__getattribute__', '__gt__', '__hash__', '__init__', '__init_subclass__', '__iter__', '__le__', '__lt__', '__ne__', '__new__', '__next__', '__reduce__', '__reduce_ex__', '__repr__', '__setattr__', '__sizeof__', '__str__', '__subclasshook__', 'dialect', 'line_num']\n",
      "['No.', '이름', '가입일시', '나이']\n",
      "['1', '김정수', '2017-01-19 11:30', '25']\n",
      "['2', '김진혜', '2017-01-19 11:30', '26']\n",
      "['3', '고유정', '2017-02-22 14:09', '27']\n",
      "['4', '김은향', '2017-04-01 18:00', '22']\n",
      "['5', '이준수', '2017-05-14 22:33', '27']\n",
      "['6', '온지수', '2017-01-11 6:04', '30']\n",
      "['7', '홍길동', '2017-02-08 7:44', '31']\n",
      "['8', '강백호', '2017-01-19 11:30', '32']\n",
      "['9', '주은명', '2017-01-19 11:30', '33']\n",
      "['10', '김수진', '2017-01-19 11:30', '34']\n",
      "['11', '박진형', '2017-02-07 10:22', '35']\n",
      "['12', '정순미', '2017-01-22 9:10', '33']\n",
      "['13', '김정현', '2017-02-22 14:09', '45']\n",
      "['14', '홍미진', '2017-04-01 18:00', '17']\n",
      "['15', '김순철', '2017-05-14 22:33', '22']\n",
      "['16', '이동철', '2017-03-01 23:44', '27']\n",
      "['17', '박지숙', '2017-01-11 6:04', '30']\n",
      "['18', '김은미', '2017-02-08 7:44', '51']\n",
      "['19', '장혁철', '2017-12-01 13:01', '16']\n"
     ]
    }
   ],
   "source": [
    "import csv\n",
    "\n",
    "with open('./csv파일/data_sample1.csv', 'r') as fp:\n",
    "    reader = csv.reader(fp)\n",
    "    print(reader)\n",
    "    print(type(reader))\n",
    "    print(dir(reader))\n",
    "    \n",
    "    for content in reader:\n",
    "        print(content)"
   ]
  },
  {
   "cell_type": "code",
   "execution_count": 9,
   "metadata": {
    "scrolled": true
   },
   "outputs": [
    {
     "name": "stdout",
     "output_type": "stream",
     "text": [
      "['3', '정순미', '2017-01-22 09:10:00', '33']\n",
      "['4', '김정현', '2017-02-22 14:09:00', '45']\n",
      "['5', '홍미진', '2017-04-01 18:00:00', '17']\n",
      "['6', '김순철', '2017-05-14 22:33:07', '22']\n",
      "['7', '이동철', '2017-03-01 23:44:45', '27']\n",
      "['8', '박지숙', '2017-01-11 06:04:18', '30']\n",
      "['9', '김은미', '2017-02-08 07:44:33', '51']\n",
      "['10', '장혁철', '2017-12-01 13:01:11', '16']\n"
     ]
    }
   ],
   "source": [
    "with open('./csv파일/data_sample2.csv', 'r') as fp:\n",
    "    reader = csv.reader(fp, delimiter='|') # 구분자 지정\n",
    "    next(reader) # 맨 위 한줄 제외하고 읽어옴\n",
    "    next(reader) # 지금 커서가 있는 줄 다음부터 읽어오겠다는 뜻으로 해석해도 될듯\n",
    "    next(reader)\n",
    "    \n",
    "    for content in reader:\n",
    "        print(content)"
   ]
  },
  {
   "cell_type": "code",
   "execution_count": 12,
   "metadata": {},
   "outputs": [
    {
     "name": "stdout",
     "output_type": "stream",
     "text": [
      "No. 1\n",
      "이름 김정수\n",
      "가입일시 2017-01-19 11:30\n",
      "나이 25\n",
      "\n",
      "No. 2\n",
      "이름 김진혜\n",
      "가입일시 2017-01-19 11:30\n",
      "나이 26\n",
      "\n",
      "No. 3\n",
      "이름 고유정\n",
      "가입일시 2017-02-22 14:09\n",
      "나이 27\n",
      "\n",
      "No. 4\n",
      "이름 김은향\n",
      "가입일시 2017-04-01 18:00\n",
      "나이 22\n",
      "\n",
      "No. 5\n",
      "이름 이준수\n",
      "가입일시 2017-05-14 22:33\n",
      "나이 27\n",
      "\n",
      "No. 6\n",
      "이름 온지수\n",
      "가입일시 2017-01-11 6:04\n",
      "나이 30\n",
      "\n",
      "No. 7\n",
      "이름 홍길동\n",
      "가입일시 2017-02-08 7:44\n",
      "나이 31\n",
      "\n",
      "No. 8\n",
      "이름 강백호\n",
      "가입일시 2017-01-19 11:30\n",
      "나이 32\n",
      "\n",
      "No. 9\n",
      "이름 주은명\n",
      "가입일시 2017-01-19 11:30\n",
      "나이 33\n",
      "\n",
      "No. 10\n",
      "이름 김수진\n",
      "가입일시 2017-01-19 11:30\n",
      "나이 34\n",
      "\n",
      "No. 11\n",
      "이름 박진형\n",
      "가입일시 2017-02-07 10:22\n",
      "나이 35\n",
      "\n",
      "No. 12\n",
      "이름 정순미\n",
      "가입일시 2017-01-22 9:10\n",
      "나이 33\n",
      "\n",
      "No. 13\n",
      "이름 김정현\n",
      "가입일시 2017-02-22 14:09\n",
      "나이 45\n",
      "\n",
      "No. 14\n",
      "이름 홍미진\n",
      "가입일시 2017-04-01 18:00\n",
      "나이 17\n",
      "\n",
      "No. 15\n",
      "이름 김순철\n",
      "가입일시 2017-05-14 22:33\n",
      "나이 22\n",
      "\n",
      "No. 16\n",
      "이름 이동철\n",
      "가입일시 2017-03-01 23:44\n",
      "나이 27\n",
      "\n",
      "No. 17\n",
      "이름 박지숙\n",
      "가입일시 2017-01-11 6:04\n",
      "나이 30\n",
      "\n",
      "No. 18\n",
      "이름 김은미\n",
      "가입일시 2017-02-08 7:44\n",
      "나이 51\n",
      "\n",
      "No. 19\n",
      "이름 장혁철\n",
      "가입일시 2017-12-01 13:01\n",
      "나이 16\n",
      "\n"
     ]
    }
   ],
   "source": [
    "# 딕셔너리 형태로 변환하기\n",
    "with open('./csv파일/data_sample1.csv', 'r') as fp:\n",
    "    reader = csv.DictReader(fp)\n",
    "    \n",
    "    for content in reader:\n",
    "        for key, value in content.items():\n",
    "            print(key, value) # 행렬 값으로 가져온다\n",
    "        print()"
   ]
  },
  {
   "cell_type": "code",
   "execution_count": 29,
   "metadata": {},
   "outputs": [],
   "source": [
    "data = [[100,200,300],\n",
    "        [101,201,301],\n",
    "        [102,202,302],\n",
    "        [104,204,304],\n",
    "        [105,205,305]]\n",
    "\n",
    "with open('./csv파일/data_sample3.csv', 'w') as fp: \n",
    "    _writer = csv.writer(fp)\n",
    "    \n",
    "    for value in data:\n",
    "         _writer.writerow(value)\n",
    "            \n",
    "    "
   ]
  }
 ],
 "metadata": {
  "kernelspec": {
   "display_name": "Python 3",
   "language": "python",
   "name": "python3"
  },
  "language_info": {
   "codemirror_mode": {
    "name": "ipython",
    "version": 3
   },
   "file_extension": ".py",
   "mimetype": "text/x-python",
   "name": "python",
   "nbconvert_exporter": "python",
   "pygments_lexer": "ipython3",
   "version": "3.7.6"
  }
 },
 "nbformat": 4,
 "nbformat_minor": 4
}
