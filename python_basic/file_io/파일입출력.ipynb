{
 "cells": [
  {
   "cell_type": "markdown",
   "metadata": {},
   "source": [
    "## 파일 읽기 & 쓰기\n",
    "* 읽기 모드 : r\n",
    "* 쓰기 모드 : w, 기존파일 삭제\n",
    "* 추가 모드 : a(ppend), 파일생성 또는 추가\n",
    "* path :\n",
    " - 상대 경로 : '../'(현재 위치에서 이전 경로), './'(현재 위치)  \n",
    " - 절대 경로 : 'C:\\a\\b'"
   ]
  },
  {
   "cell_type": "code",
   "execution_count": 4,
   "metadata": {},
   "outputs": [
    {
     "name": "stdout",
     "output_type": "stream",
     "text": [
      "Why do we use it?\n",
      "It is a long established fact that a reader will be distracted by the readable content of a page when looking at its layout. \n",
      "The point of using Lorem Ipsum is that it has a more-or-less normal distribution of letters, as opposed to using 'Content here, content here', making it look like readable English. \n",
      "Many desktop publishing packages and web page editors now use Lorem Ipsum as their default model text, and a search for 'lorem ipsum' will uncover many web sites still in their infancy. \n",
      "Various versions have evolved over the years, sometimes by accident, sometimes on purpose (injected humour and the like).\n",
      "['_CHUNK_SIZE', '__class__', '__del__', '__delattr__', '__dict__', '__dir__', '__doc__', '__enter__', '__eq__', '__exit__', '__format__', '__ge__', '__getattribute__', '__getstate__', '__gt__', '__hash__', '__init__', '__init_subclass__', '__iter__', '__le__', '__lt__', '__ne__', '__new__', '__next__', '__reduce__', '__reduce_ex__', '__repr__', '__setattr__', '__sizeof__', '__str__', '__subclasshook__', '_checkClosed', '_checkReadable', '_checkSeekable', '_checkWritable', '_finalizing', 'buffer', 'close', 'closed', 'detach', 'encoding', 'errors', 'fileno', 'flush', 'isatty', 'line_buffering', 'mode', 'name', 'newlines', 'read', 'readable', 'readline', 'readlines', 'reconfigure', 'seek', 'seekable', 'tell', 'truncate', 'writable', 'write', 'write_through', 'writelines']\n"
     ]
    }
   ],
   "source": [
    "# 파일 읽기\n",
    "f = open('./text.txt', 'r')\n",
    "contents = f.read() # read : 파일의 모든 내용을 읽어옴\n",
    "print(contents)\n",
    "print(dir(f)) # 객체 f가 사용할 수 있는 메소드의 종류를 전부 보여준다\n",
    "f.close() # 객체를 open하면 반드시 닫아준다(메모리 차지때문)\n",
    "\n"
   ]
  },
  {
   "cell_type": "code",
   "execution_count": 35,
   "metadata": {},
   "outputs": [
    {
     "name": "stdout",
     "output_type": "stream",
     "text": [
      "Why do we \n",
      "<class 'str'>\n",
      "['W', 'h', 'y', ' ', 'd', 'o', ' ', 'w', 'e', ' ']\n"
     ]
    }
   ],
   "source": [
    "# close() 메소드를 사용하지 않고 파일 객체를 열고, 닫는 방법\n",
    "with open('./text.txt','r') as f: \n",
    "    contents = f.read(10) # 10개의 문자만 읽어옴(빈칸 포함)\n",
    "    print(contents) \n",
    "    print(type(contents))\n",
    "    print(list(contents)) # 문자열을 리스트로 형변환"
   ]
  },
  {
   "cell_type": "code",
   "execution_count": 17,
   "metadata": {},
   "outputs": [
    {
     "name": "stdout",
     "output_type": "stream",
     "text": [
      "Why do we use it?\n",
      "It is a long established fact that a reader will be distracted by the readable content of a page when looking at its layout.\n",
      "The point of using Lorem Ipsum is that it has a more-or-less normal distribution of letters, as opposed to using 'Content here, content here', making it look like readable English.\n",
      "Many desktop publishing packages and web page editors now use Lorem Ipsum as their default model text, and a search for 'lorem ipsum' will uncover many web sites still in their infancy.\n",
      "Various versions have evolved over the years, sometimes by accident, sometimes on purpose (injected humour and the like).\n"
     ]
    }
   ],
   "source": [
    "with open('./text.txt','r') as f: \n",
    "    for c in f:\n",
    "#         print(c) # 기본적으로 줄바꿈 되어 있음\n",
    "        print(c.strip()) # 줄바꿈 없애기"
   ]
  },
  {
   "cell_type": "code",
   "execution_count": 41,
   "metadata": {
    "scrolled": true
   },
   "outputs": [
    {
     "name": "stdout",
     "output_type": "stream",
     "text": [
      "손흥민/20/박지성/30/김말똥/40\n",
      "> \n",
      "손흥민/20/박지성/30/김말똥/40\n",
      "['손흥민', '20', '박지성', '30', '김말똥', '40']\n"
     ]
    }
   ],
   "source": [
    "#문제1.list.txt 파일 내용을 출력하세요\n",
    "with open('./list.txt','r',encoding='utf8') as g: #유니코드 에러(한글에러) 때문에 encoding 부분 추가\n",
    "    con = g.read()   \n",
    "    print(con)\n",
    "    con = g.read() \n",
    "    print('>', con) #위에서 한번 읽었기 때문에 커서는 맨 마지막에 있다, 따라서 한 번 더 출력하면 내용 없음\n",
    "    \n",
    "    \n",
    "#문제2. '/' 구분자를 삭제한 후 이름과 나이를 리스트로 출력하세요\n",
    "with open('./list.txt','r',encoding='utf8') as g: #유니코드 에러(한글에러) 때문에 encoding 부분 추가\n",
    "    con = g.read()\n",
    "    print(con)\n",
    "    print(con.split('/'))"
   ]
  },
  {
   "cell_type": "code",
   "execution_count": 49,
   "metadata": {},
   "outputs": [
    {
     "name": "stdout",
     "output_type": "stream",
     "text": [
      "Why do we use it?\n",
      "It is a long established fact that a reader will be distracted by the readable content of a page when looking at its layout. \n",
      "The point of using Lorem Ipsum is that it has a more-or-less normal distribution of letters, as opposed to using 'Content here, content here', making it look like readable English. \n",
      "Many desktop publishing packages and web page editors now use Lorem Ipsum as their default model text, and a search for 'lorem ipsum' will uncover many web sites still in their infancy. \n",
      "Various versions have evolved over the years, sometimes by accident, sometimes on purpose (injected humour and the like)."
     ]
    }
   ],
   "source": [
    "# readline : 한줄씩 읽기, readline(문자수) : 문자수 읽기\n",
    "# 문제3. readline()으로 파일 내용 전체 읽어오기\n",
    "with open('./text.txt','r') as f: \n",
    "    while True:\n",
    "        line  = f.readline()\n",
    "        if not line: break\n",
    "        print(line, end='')\n"
   ]
  },
  {
   "cell_type": "code",
   "execution_count": 52,
   "metadata": {},
   "outputs": [
    {
     "name": "stdout",
     "output_type": "stream",
     "text": [
      "['Why do we use it?\\n', 'It is a long established fact that a reader will be distracted by the readable content of a page when looking at its layout. \\n', \"The point of using Lorem Ipsum is that it has a more-or-less normal distribution of letters, as opposed to using 'Content here, content here', making it look like readable English. \\n\", \"Many desktop publishing packages and web page editors now use Lorem Ipsum as their default model text, and a search for 'lorem ipsum' will uncover many web sites still in their infancy. \\n\", 'Various versions have evolved over the years, sometimes by accident, sometimes on purpose (injected humour and the like).']\n"
     ]
    }
   ],
   "source": [
    "# readlines() : 전체를 읽은 후 라인 단위를 리스트로 출력\n",
    "with open('./text.txt','r') as f: \n",
    "    con = f.readlines() \n",
    "    print(con) "
   ]
  },
  {
   "cell_type": "code",
   "execution_count": 53,
   "metadata": {
    "scrolled": true
   },
   "outputs": [
    {
     "name": "stdout",
     "output_type": "stream",
     "text": [
      "['Why do we use it?\\n', 'It is a long established fact that a reader will be distracted by the readable content of a page when looking at its layout. \\n', \"The point of using Lorem Ipsum is that it has a more-or-less normal distribution of letters, as opposed to using 'Content here, content here', making it look like readable English. \\n\", \"Many desktop publishing packages and web page editors now use Lorem Ipsum as their default model text, and a search for 'lorem ipsum' will uncover many web sites still in their infancy. \\n\", 'Various versions have evolved over the years, sometimes by accident, sometimes on purpose (injected humour and the like).']\n"
     ]
    }
   ],
   "source": [
    "with open('./text.txt','r') as f: \n",
    "    score = []\n",
    "    for line in f:\n",
    "        score.append(line)\n",
    "    print(score)"
   ]
  },
  {
   "cell_type": "code",
   "execution_count": 54,
   "metadata": {},
   "outputs": [],
   "source": [
    "# 파일 쓰기\n",
    "with open('./text_write.txt','w') as f: \n",
    "    f.write('Goodman!! \\n')"
   ]
  },
  {
   "cell_type": "code",
   "execution_count": 58,
   "metadata": {},
   "outputs": [],
   "source": [
    "with open('./text_write.txt','a') as f: \n",
    "    f.write('Niceman!! \\n')"
   ]
  },
  {
   "cell_type": "code",
   "execution_count": 78,
   "metadata": {},
   "outputs": [],
   "source": [
    "#문제4. 로또 번호 6자리를 랜덤생성하는 파일을 만들어라\n",
    "with open('./lotto.txt','w') as f: \n",
    "    from random import randint # randint : 정수형 난수를 출력\n",
    "    for i in range(6):\n",
    "        f.write(str(randint(1,46)))\n",
    "        f.write(' ')"
   ]
  },
  {
   "cell_type": "code",
   "execution_count": 76,
   "metadata": {},
   "outputs": [],
   "source": [
    "# writelines : 리스트 -> 파일로 저장\n",
    "with open('./text_write2.txt','a') as f: \n",
    "    list = ['kim\\n', 'park\\n', 'lee\\n']\n",
    "    f.writelines(list)"
   ]
  },
  {
   "cell_type": "code",
   "execution_count": 77,
   "metadata": {},
   "outputs": [],
   "source": [
    "# print 함수를 이용해서 파일에 입력하는 방법\n",
    "with open('./text_write3.txt','w') as f: \n",
    "    print('test text!!!', file=f)\n",
    "    print('test text2222!!!', file=f)"
   ]
  },
  {
   "cell_type": "code",
   "execution_count": 79,
   "metadata": {},
   "outputs": [],
   "source": [
    "# 교재 180쪽 문제5 \n",
    "with open('./test.txt', 'w') as f:\n",
    "    f.write(\"Life is too short\")"
   ]
  },
  {
   "cell_type": "code",
   "execution_count": 80,
   "metadata": {},
   "outputs": [
    {
     "name": "stdout",
     "output_type": "stream",
     "text": [
      "Life is too short\n"
     ]
    }
   ],
   "source": [
    "with open('./test.txt', 'r') as f:\n",
    "    r = f.read()\n",
    "    print(r)"
   ]
  },
  {
   "cell_type": "code",
   "execution_count": 84,
   "metadata": {},
   "outputs": [
    {
     "name": "stdout",
     "output_type": "stream",
     "text": [
      "저장할 내용을 입력하세요: 파이썬 베이직 프로그래밍\n"
     ]
    }
   ],
   "source": [
    "# 교재 180쪽 문제6\n",
    "user_input = input(\"저장할 내용을 입력하세요: \")\n",
    "with open('./input.txt', 'a') as f:\n",
    "    f.write(user_input)\n",
    "    f.write(\"\\n\")"
   ]
  },
  {
   "cell_type": "code",
   "execution_count": 85,
   "metadata": {},
   "outputs": [],
   "source": [
    "# 교재 180쪽 문제7\n",
    "with open('./test.txt', 'a') as f:\n",
    "    f.write(\"\\n\")\n",
    "    f.write(\"You need to java\")"
   ]
  },
  {
   "cell_type": "code",
   "execution_count": 87,
   "metadata": {},
   "outputs": [],
   "source": [
    "# 교재 180쪽 문제8\n",
    "with open('./test.txt', 'r') as f:\n",
    "    con = f.read()\n",
    "    con = con.replace('java', 'python')\n",
    "\n",
    "with open('./test.txt', 'w') as f:\n",
    "    f.write(con) # 이 때 새로운 3번째 문장이 생기는 것이 아니라 기존 문장의 단어가 수정된다는 걸 주의하자!!"
   ]
  },
  {
   "cell_type": "code",
   "execution_count": 90,
   "metadata": {},
   "outputs": [
    {
     "name": "stdout",
     "output_type": "stream",
     "text": [
      "ab\n",
      "ab\n"
     ]
    }
   ],
   "source": [
    "print('a'+'b')\n",
    "print('a''b')"
   ]
  }
 ],
 "metadata": {
  "kernelspec": {
   "display_name": "Python 3",
   "language": "python",
   "name": "python3"
  },
  "language_info": {
   "codemirror_mode": {
    "name": "ipython",
    "version": 3
   },
   "file_extension": ".py",
   "mimetype": "text/x-python",
   "name": "python",
   "nbconvert_exporter": "python",
   "pygments_lexer": "ipython3",
   "version": "3.7.7"
  }
 },
 "nbformat": 4,
 "nbformat_minor": 4
}
