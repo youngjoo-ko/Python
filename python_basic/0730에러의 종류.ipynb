{
 "cells": [
  {
   "cell_type": "code",
   "execution_count": 7,
   "metadata": {},
   "outputs": [
    {
     "name": "stdout",
     "output_type": "stream",
     "text": [
      "1596070877.0268273\n"
     ]
    }
   ],
   "source": [
    "# 에러의 종류\n",
    "# SyntaxError, TypeError, NameError, IndexError, ValueError, KeyError 등\n",
    "# SyntaxError : 잘못된 문법\n",
    "# NameError : 참조 변수 에러(정의되지 않은 변수를 참조할 때)\n",
    "# ZeroDivisionError : 0으로 나눴을 때 발생하는 에러\n",
    "# IndexError : 인덱스 범위를 초과하거나, 인덱스에 없는 값을 가져올 때 발생\n",
    "# KeyError : 존재하지 않는 key 값을 가져올 때 발생 \n",
    "# (.get()함수를 이용하면 에러가 나지 않고, None 을 돌려준다)\n",
    "\n"
   ]
  },
  {
   "cell_type": "code",
   "execution_count": 10,
   "metadata": {},
   "outputs": [
    {
     "name": "stdout",
     "output_type": "stream",
     "text": [
      "[22, 33]\n"
     ]
    }
   ],
   "source": [
    "# ValueError : 없는 Value(값)을 가져올 때 발생\n",
    "# y = [22, 33 , 55]\n",
    "# y.remove(100) # y에는 100이라는 값이 없기 때문에 에러 발생\n"
   ]
  },
  {
   "cell_type": "code",
   "execution_count": 9,
   "metadata": {},
   "outputs": [
    {
     "name": "stdout",
     "output_type": "stream",
     "text": [
      "1596071027.9144597\n"
     ]
    }
   ],
   "source": [
    "# AttributeError : 클래스에 없는 속성을 사용하는 경우\n",
    "import time \n",
    "print(time.time())\n",
    "# print(time.month()) .month()는 클래스에 없기 때문에 에러 발생"
   ]
  },
  {
   "cell_type": "code",
   "execution_count": 16,
   "metadata": {},
   "outputs": [
    {
     "name": "stdout",
     "output_type": "stream",
     "text": [
      "[11, 22, 33, 44]\n"
     ]
    },
    {
     "ename": "NameError",
     "evalue": "name 'prinT' is not defined",
     "output_type": "error",
     "traceback": [
      "\u001b[1;31m---------------------------------------------------------------------------\u001b[0m",
      "\u001b[1;31mNameError\u001b[0m                                 Traceback (most recent call last)",
      "\u001b[1;32m<ipython-input-16-44476768cab8>\u001b[0m in \u001b[0;36m<module>\u001b[1;34m\u001b[0m\n\u001b[0;32m      9\u001b[0m \u001b[1;33m\u001b[0m\u001b[0m\n\u001b[0;32m     10\u001b[0m \u001b[1;31m# print(sum(1,23,45)) 타입에러 발생, 이유는 sum에는 iterable객체가 들어가야 하기 때문\u001b[0m\u001b[1;33m\u001b[0m\u001b[1;33m\u001b[0m\u001b[1;33m\u001b[0m\u001b[0m\n\u001b[1;32m---> 11\u001b[1;33m \u001b[0mprinT\u001b[0m\u001b[1;33m(\u001b[0m\u001b[0msum\u001b[0m\u001b[1;33m(\u001b[0m\u001b[1;33m[\u001b[0m\u001b[1;36m1\u001b[0m\u001b[1;33m,\u001b[0m\u001b[1;36m23\u001b[0m\u001b[1;33m,\u001b[0m\u001b[1;36m45\u001b[0m\u001b[1;33m]\u001b[0m\u001b[1;33m)\u001b[0m\u001b[1;33m)\u001b[0m\u001b[1;33m\u001b[0m\u001b[1;33m\u001b[0m\u001b[0m\n\u001b[0m",
      "\u001b[1;31mNameError\u001b[0m: name 'prinT' is not defined"
     ]
    }
   ],
   "source": [
    "# FileNotFoundError : 없는 파일을 불러올 때 발생\n",
    "# TypeError : 자료형에 맞지 않는 연산을 하는 경우 발생\n",
    "x = [11, 22]\n",
    "y = (33, 44)\n",
    "zz = 'hello'\n",
    "\n",
    "# print(x + y) 서로 다른 타입의 리스트와 튜플을 더했기 때문에 에러 발생\n",
    "print(x + list(y)) # 둘중 하나를 형변환 해준다\n",
    "\n",
    "# print(sum(1,23,45)) 타입에러 발생, 이유는 sum에는 iterable객체가 들어가야 하기 때문\n",
    "prinT(sum([1,23,45]))"
   ]
  }
 ],
 "metadata": {
  "kernelspec": {
   "display_name": "Python 3",
   "language": "python",
   "name": "python3"
  },
  "language_info": {
   "codemirror_mode": {
    "name": "ipython",
    "version": 3
   },
   "file_extension": ".py",
   "mimetype": "text/x-python",
   "name": "python",
   "nbconvert_exporter": "python",
   "pygments_lexer": "ipython3",
   "version": "3.7.7"
  }
 },
 "nbformat": 4,
 "nbformat_minor": 4
}
