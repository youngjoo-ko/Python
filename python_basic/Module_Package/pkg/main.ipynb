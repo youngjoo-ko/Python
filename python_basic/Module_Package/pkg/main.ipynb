{
 "cells": [
  {
   "cell_type": "code",
   "execution_count": 3,
   "metadata": {},
   "outputs": [
    {
     "name": "stdout",
     "output_type": "stream",
     "text": [
      "__main__\n",
      "하이!!\n"
     ]
    }
   ],
   "source": [
    "import greet\n",
    "\n",
    "print(__name__)\n",
    "greet.greeting()\n",
    "\n",
    "#if __name__ == \"__main__\" 은 주로 단위실행 시 사용한다\n",
    "# 직접 실행시켰을 때만 실행되도록 하기위한 코드를 넣어준다"
   ]
  }
 ],
 "metadata": {
  "kernelspec": {
   "display_name": "Python 3",
   "language": "python",
   "name": "python3"
  },
  "language_info": {
   "codemirror_mode": {
    "name": "ipython",
    "version": 3
   },
   "file_extension": ".py",
   "mimetype": "text/x-python",
   "name": "python",
   "nbconvert_exporter": "python",
   "pygments_lexer": "ipython3",
   "version": "3.7.7"
  }
 },
 "nbformat": 4,
 "nbformat_minor": 4
}
