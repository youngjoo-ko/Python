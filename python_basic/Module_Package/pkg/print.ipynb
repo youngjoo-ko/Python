{
 "cells": [
  {
   "cell_type": "code",
   "execution_count": 4,
   "metadata": {},
   "outputs": [],
   "source": [
    "def prt1(self):\n",
    "    print(\"나는 오타 대마왕\")\n",
    "\n",
    "def prt2(self):\n",
    "    print('여러분은?')\n",
    "    \n",
    "print(\"단위출력\")\n",
    "print(__name__)"
   ]
  }
 ],
 "metadata": {
  "kernelspec": {
   "display_name": "Python 3",
   "language": "python",
   "name": "python3"
  },
  "language_info": {
   "codemirror_mode": {
    "name": "ipython",
    "version": 3
   },
   "file_extension": ".py",
   "mimetype": "text/x-python",
   "name": "python",
   "nbconvert_exporter": "python",
   "pygments_lexer": "ipython3",
   "version": "3.7.7"
  }
 },
 "nbformat": 4,
 "nbformat_minor": 4
}
