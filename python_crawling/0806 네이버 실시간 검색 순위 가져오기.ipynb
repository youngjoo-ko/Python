{
 "cells": [
  {
   "cell_type": "code",
   "execution_count": 6,
   "metadata": {
    "scrolled": true
   },
   "outputs": [
    {
     "name": "stdout",
     "output_type": "stream",
     "text": [
      "[[1, 'aoa'], [2, '아나운서 황정민'], [3, '권민아'], [4, '샘 오취리'], [5, '초아'], [6, '쯔양'], [7, '류호정 원피스'], [8, '기쁨153교회'], [9, '설현'], [10, '권경애'], [11, '의암댐'], [12, '남이섬'], [13, '담보'], [14, '의정부고 졸업사진'], [15, '신라젠'], [16, '한상혁'], [17, '거미'], [18, '민아'], [19, '양팡'], [20, '관짝소년단']]\n"
     ]
    }
   ],
   "source": [
    "import requests\n",
    "\n",
    "# requests 모듈을 이용해 json 데이터를 받아오기\n",
    "res = requests.get(\"https://apis.naver.com/mobile_main/srchrank/srchrank\").json()\n",
    "ranks = res.get('data')\n",
    "\n",
    "s_list = []\n",
    "for r in ranks:\n",
    "    rank = r.get('rank')\n",
    "    keyword = r.get('keyword')\n",
    "    \n",
    "    s_list.append([rank, keyword])\n",
    "    \n",
    "print(s_list)\n",
    "\n"
   ]
  },
  {
   "cell_type": "code",
   "execution_count": 18,
   "metadata": {},
   "outputs": [],
   "source": [
    "# 가져온 검색순위 csv 파일로 저장하기\n",
    "import csv\n",
    "\n",
    "with open('../python_basic/csv파일/naver_top20.csv', 'a', newline='') as fp:\n",
    "    w = csv.writer(fp)\n",
    "    \n",
    "    for i in s_list:\n",
    "        w.writerow(i)\n",
    "        \n",
    "with open('../python_basic/csv파일/naver_top20_2.csv', 'a') as fp:\n",
    "    w = csv.writer(fp)\n",
    "    w.writerows(s_list) # writerow는 개행이 없고, writerows는 for문을 돌린것과 같은 결과가 나옴"
   ]
  }
 ],
 "metadata": {
  "kernelspec": {
   "display_name": "Python 3",
   "language": "python",
   "name": "python3"
  },
  "language_info": {
   "codemirror_mode": {
    "name": "ipython",
    "version": 3
   },
   "file_extension": ".py",
   "mimetype": "text/x-python",
   "name": "python",
   "nbconvert_exporter": "python",
   "pygments_lexer": "ipython3",
   "version": "3.7.7"
  }
 },
 "nbformat": 4,
 "nbformat_minor": 4
}
