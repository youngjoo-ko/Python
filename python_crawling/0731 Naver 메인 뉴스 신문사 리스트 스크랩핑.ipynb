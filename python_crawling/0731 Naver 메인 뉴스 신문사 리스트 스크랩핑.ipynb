{
 "cells": [
  {
   "cell_type": "code",
   "execution_count": 3,
   "metadata": {
    "scrolled": true
   },
   "outputs": [
    {
     "name": "stdout",
     "output_type": "stream",
     "text": [
      "Requirement already satisfied: cssselect in c:\\programdata\\anaconda3\\lib\\site-packages (1.1.0)\n",
      "<Element html at 0x2d8013e2228>\n",
      "http://newsstand.naver.com/?list=&pcode=308\n",
      "http://newsstand.naver.com/?list=&pcode=214\n",
      "http://newsstand.naver.com/?list=&pcode=022\n",
      "http://newsstand.naver.com/?list=&pcode=314\n",
      "http://newsstand.naver.com/?list=&pcode=326\n",
      "http://newsstand.naver.com/?list=&pcode=092\n",
      "http://newsstand.naver.com/?list=&pcode=277\n",
      "http://newsstand.naver.com/?list=&pcode=904\n",
      "http://newsstand.naver.com/?list=&pcode=055\n",
      "http://newsstand.naver.com/?list=&pcode=014\n",
      "http://newsstand.naver.com/?list=&pcode=028\n",
      "http://newsstand.naver.com/?list=&pcode=023\n",
      "http://newsstand.naver.com/?list=&pcode=009\n",
      "http://newsstand.naver.com/?list=&pcode=081\n",
      "http://newsstand.naver.com/?list=&pcode=376\n",
      "http://newsstand.naver.com/?list=&pcode=387\n",
      "http://newsstand.naver.com/?list=&pcode=338\n",
      "http://newsstand.naver.com/?list=&pcode=926\n",
      "http://newsstand.naver.com/?list=&pcode=982\n",
      "http://newsstand.naver.com/?list=&pcode=816\n",
      "http://newsstand.naver.com/?list=&pcode=925\n",
      "http://newsstand.naver.com/?list=&pcode=814\n",
      "http://newsstand.naver.com/?list=&pcode=956\n",
      "http://newsstand.naver.com/?list=&pcode=138\n"
     ]
    }
   ],
   "source": [
    "import lxml.html\n",
    "import requests\n",
    "!pip install cssselect\n",
    "import cssselect\n",
    "\n",
    "# 스크래핑 메인함수\n",
    "def main():\n",
    "    # 스크랩핑 대상 url 불러오기\n",
    "    response = requests.get('https://www.naver.com')\n",
    "    # 링크 목록 획득 함수 호출\n",
    "    urls = newspaper_link_list(response)\n",
    "    #결과 출력\n",
    "    for url in urls:\n",
    "        print(url)\n",
    "    \n",
    "# 신문사의 링크 목록 획득\n",
    "def newspaper_link_list(response):\n",
    "    urls = []\n",
    "    root = lxml.html.fromstring(response.content) # 태그정보를 문자열로 저장\n",
    "    # ## 두개가 반복 출력되는 건 부모클래스가 btn_popup이기 때문,\n",
    "    # 따라서 가상요소 선택자를 통해 ##을 없애줄 수 있다\n",
    "\n",
    "    for a in root.cssselect('._NM_UI_PAGE_CONTAINER .popup_wrap .btn_popup:last-child'):\n",
    "        # 링크주소 가져오기(태그명으로!)\n",
    "        url = a.get('href')\n",
    "        # 가져온 링크주소 리스트에 넣기\n",
    "        urls.append(url)\n",
    "    return urls\n",
    "\n",
    "    \n",
    "if __name__=='__main__':\n",
    "    main()"
   ]
  },
  {
   "cell_type": "code",
   "execution_count": 18,
   "metadata": {
    "scrolled": true
   },
   "outputs": [
    {
     "name": "stdout",
     "output_type": "stream",
     "text": [
      "MBC\n",
      "아시아경제\n",
      "경향신문\n",
      "동아일보\n",
      "헤럴드경제\n",
      "스포탈코리아\n",
      "매일경제\n",
      "일간스포츠\n",
      "스포츠동아\n",
      "뉴데일리\n",
      "YTN\n",
      "연합뉴스TV\n",
      "조선비즈\n",
      "조선일보\n",
      "서울신문\n",
      "경인일보\n",
      "중부일보\n",
      "인천일보\n",
      "씨네21\n",
      "더팩트\n",
      "월간중앙\n",
      "뉴스토마토\n",
      "조세일보\n",
      "이로운넷\n"
     ]
    }
   ],
   "source": [
    "# 신문사 이름만 가져오기\n",
    "\n",
    "import lxml.html\n",
    "import requests\n",
    "import cssselect\n",
    "\n",
    "\n",
    "def main():\n",
    "    response = requests.get('https://www.naver.com')\n",
    "    urls = newspaper_link_list(response)\n",
    "\n",
    "    for url in urls:\n",
    "        print(url)\n",
    "    \n",
    "\n",
    "def newspaper_link_list(response):\n",
    "    urls = []\n",
    "    root = lxml.html.fromstring(response.content)\n",
    "    \n",
    "    for b in root.cssselect('.thumb img'):\n",
    "        url = b.get('alt')\n",
    "        urls.append(url)\n",
    "    return urls\n",
    "    \n",
    "if __name__=='__main__':\n",
    "    main()"
   ]
  }
 ],
 "metadata": {
  "kernelspec": {
   "display_name": "Python 3",
   "language": "python",
   "name": "python3"
  },
  "language_info": {
   "codemirror_mode": {
    "name": "ipython",
    "version": 3
   },
   "file_extension": ".py",
   "mimetype": "text/x-python",
   "name": "python",
   "nbconvert_exporter": "python",
   "pygments_lexer": "ipython3",
   "version": "3.7.6"
  }
 },
 "nbformat": 4,
 "nbformat_minor": 4
}
