{
 "cells": [
  {
   "cell_type": "code",
   "execution_count": 17,
   "metadata": {},
   "outputs": [
    {
     "name": "stdout",
     "output_type": "stream",
     "text": [
      "rank_json:  [{'rank': 1, 'rankChange': 0, 'symbolCode': 'A005930', 'code': 'KR7005930003', 'name': '삼성전자', 'tradePrice': 57500, 'change': 'RISE', 'changePrice': 600, 'changeRate': 0.0105448155, 'chartSlideImage': None, 'isNew': False}, {'rank': 2, 'rankChange': 1, 'symbolCode': 'A096770', 'code': 'KR7096770003', 'name': 'SK이노베이션', 'tradePrice': 162500, 'change': 'RISE', 'changePrice': 3500, 'changeRate': 0.0220125786, 'chartSlideImage': None, 'isNew': False}, {'rank': 3, 'rankChange': 5, 'symbolCode': 'A096530', 'code': 'KR7096530001', 'name': '씨젠', 'tradePrice': 305400, 'change': 'RISE', 'changePrice': 27400, 'changeRate': 0.0985611511, 'chartSlideImage': None, 'isNew': False}, {'rank': 4, 'rankChange': -2, 'symbolCode': 'A128940', 'code': 'KR7128940004', 'name': '한미약품', 'tradePrice': 383500, 'change': 'RISE', 'changePrice': 23000, 'changeRate': 0.0638002774, 'chartSlideImage': None, 'isNew': False}, {'rank': 5, 'rankChange': 0, 'symbolCode': 'A164060', 'code': 'KR7164060006', 'name': '이루다', 'tradePrice': 21900, 'change': 'RISE', 'changePrice': 3900, 'changeRate': 0.2166666667, 'chartSlideImage': None, 'isNew': False}, {'rank': 6, 'rankChange': -2, 'symbolCode': 'A035720', 'code': 'KR7035720002', 'name': '카카오', 'tradePrice': 364000, 'change': 'FALL', 'changePrice': 6500, 'changeRate': 0.0175438596, 'chartSlideImage': None, 'isNew': False}, {'rank': 7, 'rankChange': -1, 'symbolCode': 'A005380', 'code': 'KR7005380001', 'name': '현대차', 'tradePrice': 140500, 'change': 'RISE', 'changePrice': 6500, 'changeRate': 0.0485074627, 'chartSlideImage': None, 'isNew': False}, {'rank': 8, 'rankChange': -1, 'symbolCode': 'A019170', 'code': 'KR7019170000', 'name': '신풍제약', 'tradePrice': 79900, 'change': 'RISE', 'changePrice': 1200, 'changeRate': 0.0152477764, 'chartSlideImage': None, 'isNew': False}, {'rank': 9, 'rankChange': 0, 'symbolCode': 'A006400', 'code': 'KR7006400006', 'name': '삼성SDI', 'tradePrice': 469000, 'change': 'RISE', 'changePrice': 1000, 'changeRate': 0.0021367521, 'chartSlideImage': None, 'isNew': True}, {'rank': 10, 'rankChange': 0, 'symbolCode': 'A051910', 'code': 'KR7051910008', 'name': 'LG화학', 'tradePrice': 673000, 'change': 'RISE', 'changePrice': 3000, 'changeRate': 0.0044776119, 'chartSlideImage': None, 'isNew': True}]\n"
     ]
    }
   ],
   "source": [
    "# fake_useragent 사용\n",
    "\n",
    "import urllib.request as req\n",
    "from fake_useragent import UserAgent\n",
    "import json\n",
    "\n",
    "# 가짜 useragent 생성하기\n",
    "ua = UserAgent()\n",
    "\n",
    "# # 가상의 브라우저 지정\n",
    "# print(ua.chrome)\n",
    "\n",
    "# print(ua.ie)\n",
    "# print(ua.safari)\n",
    "\n",
    "# print(ua.random)\n",
    "\n",
    "# 헤더 정보 세팅\n",
    "headers = {\n",
    "    'User-agent':ua.ie,\n",
    "    'referer': 'http://finance.daum.net/'\n",
    "}\n",
    "\n",
    "# 인기 검색 종목 url 요청\n",
    "url = 'http://finance.daum.net/api/search/ranks?limit=10'\n",
    "\n",
    "# 헤더 정보가 있는 경우, Request 클래스를 사용함\n",
    "res = req.urlopen(req.Request(url, headers = headers)).read().decode('utf-8')\n",
    "\n",
    "# print('res: ', res) # 제이슨 형식으로 출력된다\n",
    "\n",
    "rank_json = json.loads(res)['data']\n",
    "print('rank_json: ', rank_json)\n",
    "\n"
   ]
  },
  {
   "cell_type": "code",
   "execution_count": 26,
   "metadata": {},
   "outputs": [
    {
     "name": "stdout",
     "output_type": "stream",
     "text": [
      "1 삼성전자 57500\n",
      "2 SK이노베이션 162500\n",
      "3 씨젠 305400\n",
      "4 한미약품 383500\n",
      "5 이루다 21900\n",
      "6 카카오 364000\n",
      "7 현대차 140500\n",
      "8 신풍제약 79900\n",
      "9 삼성SDI 469000\n",
      "10 LG화학 673000\n"
     ]
    }
   ],
   "source": [
    "# 내가 한 방법\n",
    "for top in rank_json:\n",
    "    rank = top.get('rank')\n",
    "    name = top.get('name')\n",
    "    price = top.get('tradePrice')\n",
    "    print(rank, name, price)"
   ]
  },
  {
   "cell_type": "code",
   "execution_count": 29,
   "metadata": {},
   "outputs": [
    {
     "name": "stdout",
     "output_type": "stream",
     "text": [
      "순위:1, 종목명:삼성전자, 현재가:57500\n",
      "순위:2, 종목명:SK이노베이션, 현재가:162500\n",
      "순위:3, 종목명:씨젠, 현재가:305400\n",
      "순위:4, 종목명:한미약품, 현재가:383500\n",
      "순위:5, 종목명:이루다, 현재가:21900\n",
      "순위:6, 종목명:카카오, 현재가:364000\n",
      "순위:7, 종목명:현대차, 현재가:140500\n",
      "순위:8, 종목명:신풍제약, 현재가:79900\n",
      "순위:9, 종목명:삼성SDI, 현재가:469000\n",
      "순위:10, 종목명:LG화학, 현재가:673000\n"
     ]
    }
   ],
   "source": [
    "# 교수님 방법\n",
    "for stock_info in rank_json:\n",
    "    print(f'순위:{stock_info[\"rank\"]}, 종목명:{stock_info[\"name\"]}, 현재가:{stock_info[\"tradePrice\"]}')"
   ]
  }
 ],
 "metadata": {
  "kernelspec": {
   "display_name": "Python 3",
   "language": "python",
   "name": "python3"
  },
  "language_info": {
   "codemirror_mode": {
    "name": "ipython",
    "version": 3
   },
   "file_extension": ".py",
   "mimetype": "text/x-python",
   "name": "python",
   "nbconvert_exporter": "python",
   "pygments_lexer": "ipython3",
   "version": "3.7.7"
  }
 },
 "nbformat": 4,
 "nbformat_minor": 4
}
