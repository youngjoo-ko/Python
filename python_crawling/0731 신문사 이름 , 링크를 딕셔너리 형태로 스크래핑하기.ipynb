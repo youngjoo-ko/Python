{
 "cells": [
  {
   "cell_type": "code",
   "execution_count": 14,
   "metadata": {},
   "outputs": [
    {
     "name": "stdout",
     "output_type": "stream",
     "text": [
      "디지털타임스 http://newsstand.naver.com/?list=&pcode=029\n",
      "블로터 http://newsstand.naver.com/?list=&pcode=293\n",
      "중앙데일리 http://newsstand.naver.com/?list=&pcode=330\n",
      "데일리안 http://newsstand.naver.com/?list=&pcode=368\n",
      "뉴스타파 http://newsstand.naver.com/?list=&pcode=930\n",
      "이데일리 http://newsstand.naver.com/?list=&pcode=018\n",
      "문화일보 http://newsstand.naver.com/?list=&pcode=021\n",
      "파이낸셜뉴스 http://newsstand.naver.com/?list=&pcode=014\n",
      "국민일보 http://newsstand.naver.com/?list=&pcode=005\n",
      "경향신문 http://newsstand.naver.com/?list=&pcode=032\n",
      "한겨레 http://newsstand.naver.com/?list=&pcode=028\n",
      "스포탈코리아 http://newsstand.naver.com/?list=&pcode=139\n",
      "스포츠동아 http://newsstand.naver.com/?list=&pcode=314\n",
      "연합뉴스TV http://newsstand.naver.com/?list=&pcode=422\n",
      "KBS http://newsstand.naver.com/?list=&pcode=056\n",
      "중부일보 http://newsstand.naver.com/?list=&pcode=926\n",
      "인천일보 http://newsstand.naver.com/?list=&pcode=387\n",
      "경인일보 http://newsstand.naver.com/?list=&pcode=338\n",
      "YTN사이언스 http://newsstand.naver.com/?list=&pcode=945\n",
      "엑스포츠뉴스 http://newsstand.naver.com/?list=&pcode=311\n",
      "스타뉴스 http://newsstand.naver.com/?list=&pcode=108\n",
      "코메디닷컴 http://newsstand.naver.com/?list=&pcode=296\n",
      "한경비즈니스 http://newsstand.naver.com/?list=&pcode=050\n",
      "이뉴스투데이 http://newsstand.naver.com/?list=&pcode=964\n"
     ]
    }
   ],
   "source": [
    "# 신문사 이름이랑 링크 딕셔너리로 가져오기\n",
    "\n",
    "from lxml.html import fromstring\n",
    "import requests\n",
    "\n",
    "\n",
    "def main():\n",
    "\n",
    "    session = requests.Session()\n",
    "    # 스크랩핑 대상 url 불러오기\n",
    "    response = session.get('https://www.naver.com')\n",
    "    \n",
    "    urls = newspaper_link_list(response)\n",
    "    for name, url in urls.items():\n",
    "        print(name, url)\n",
    "\n",
    "def extract_contents(dom):\n",
    "    # 링크 주소 얻어오기\n",
    "    link = dom.get('href')\n",
    "    name = dom.xpath('../../a[@class=\"thumb\"]/img')[0].get('alt')\n",
    "    # xpath는 img 요소를 리스트에 리턴한다. 때문에 그 요소를 인덱스로 꺼내와서\n",
    "    # get메소드를 적용해줘야 한다\n",
    "    return name, link\n",
    "    \n",
    "        \n",
    "def newspaper_link_list(response):\n",
    "    urls = {}\n",
    "    \n",
    "    root = fromstring(response.content) \n",
    "    \n",
    "    for a in root.xpath('//div[@class=\"_NM_UI_PAGE_CONTAINER\"]//div[@class=\"popup_wrap\"]//a[@class=\"btn_popup\"]'):\n",
    "        # url = a.get('href')\n",
    "        # print(tostring(a, pretty_print=True))\n",
    "        \n",
    "        # 신문사명, url링크 추출하는 함수\n",
    "        name, url = extract_contents(a)\n",
    "        \n",
    "        # 딕셔너리에 삽입\n",
    "        urls[name] = url\n",
    "        \n",
    "    return urls\n",
    "    \n",
    "if __name__=='__main__':\n",
    "    main()\n",
    "\n"
   ]
  }
 ],
 "metadata": {
  "kernelspec": {
   "display_name": "Python 3",
   "language": "python",
   "name": "python3"
  },
  "language_info": {
   "codemirror_mode": {
    "name": "ipython",
    "version": 3
   },
   "file_extension": ".py",
   "mimetype": "text/x-python",
   "name": "python",
   "nbconvert_exporter": "python",
   "pygments_lexer": "ipython3",
   "version": "3.7.6"
  }
 },
 "nbformat": 4,
 "nbformat_minor": 4
}
