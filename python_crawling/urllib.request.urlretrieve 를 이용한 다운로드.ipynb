{
 "cells": [
  {
   "cell_type": "markdown",
   "metadata": {},
   "source": [
    "## urllib.request.urlretrieve 사용법\n",
    "파일의 경로를 직접 저장하여 다운로드 한다 / 다운로드 후 해당 정보 업데이트x"
   ]
  },
  {
   "cell_type": "code",
   "execution_count": 12,
   "metadata": {
    "scrolled": true
   },
   "outputs": [
    {
     "name": "stdout",
     "output_type": "stream",
     "text": [
      "Date: Thu, 30 Jul 2020 07:13:48 GMT\n",
      "Accept-Ranges: bytes\n",
      "Access-Control-Allow-Credentials: true\n",
      "Access-Control-Allow-Headers: accept, content-type\n",
      "Access-Control-Allow-Methods: GET, POST\n",
      "Access-Control-Allow-Origin: *\n",
      "Cache-Control: max-age=2592000\n",
      "Content-Length: 46360\n",
      "Content-Type: image/jpeg\n",
      "Last-Modified: Tue, 28 Jul 2020 01:24:42 GMT\n",
      "P3p: CP=\"ALL CURa ADMa DEVa TAIa OUR BUS IND PHY ONL UNI PUR FIN COM NAV INT DEM CNT STA POL HEA PRE LOC OTC\"\n",
      "Age: 193745\n",
      "Expires: Thu, 27 Aug 2020 01:24:42 GMT\n",
      "Connection: close\n",
      "\n",
      "\n",
      "Date: Thu, 30 Jul 2020 07:13:49 GMT\n",
      "Expires: -1\n",
      "Cache-Control: private, max-age=0\n",
      "Content-Type: text/html; charset=ISO-8859-1\n",
      "P3P: CP=\"This is not a P3P policy! See g.co/p3phelp for more info.\"\n",
      "Server: gws\n",
      "X-XSS-Protection: 0\n",
      "X-Frame-Options: SAMEORIGIN\n",
      "Set-Cookie: 1P_JAR=2020-07-30-07; expires=Sat, 29-Aug-2020 07:13:49 GMT; path=/; domain=.google.com; Secure\n",
      "Set-Cookie: NID=204=suGt5tZun6lBH_6d_07jMpUccsgNs7Weqf5TdxKwdzH6EFddVtadi2ZbNNksRRK3drN2HkSAtY3qzathV2EynynjF8AkBzOkQ7As2H6hm2Sxa3diBH_hVR8VBBqePeMoraE3Gk3eyA1tFsF3q5xQNJWcSRDMjisBOHYjVLb3JYY; expires=Fri, 29-Jan-2021 07:13:49 GMT; path=/; domain=.google.com; HttpOnly\n",
      "Accept-Ranges: none\n",
      "Vary: Accept-Encoding\n",
      "Connection: close\n",
      "Transfer-Encoding: chunked\n",
      "\n",
      "\n",
      "파일1 c:/크롤링 자료/dog.jpg\n",
      "파일2 c:/크롤링 자료/google_index.html\n",
      "다운로드 성공\n"
     ]
    }
   ],
   "source": [
    "import urllib.request as req\n",
    "\n",
    "# 원하는 파일 URL을 변수에 넣는다\n",
    "img_url = \" http://blogfiles.naver.net/20130627_74/qna9386_1372313742793Uh1vw_JPEG/%B0%AD%BE%C6%C1%F699.jpg\"\n",
    "html_url = \"http://www.google.com/\"\n",
    "\n",
    "# 저장 경로와 이름 지정하여 변수에 넣는다 \n",
    "# 웹페이지의 url은 html로 저장\n",
    "save_path1 = \"c:/크롤링 자료/dog.jpg\"\n",
    "save_path2 = \"c:/크롤링 자료/google_index.html\"\n",
    "\n",
    "# 예외 처리\n",
    "try:\n",
    "    # urlretrieve(url 정보를 데이터베이스에서 검색해옴) 함수를 이용해 \n",
    "    # 가져온 url 정보들을 내 컴퓨터에 저장해준다\n",
    "    file1, header1 = req.urlretrieve(img_url, save_path1)\n",
    "    file2, header2 = req.urlretrieve(html_url, save_path2)\n",
    "\n",
    "except Exception as e:\n",
    "    print('다운로드 실패')\n",
    "    print(e)\n",
    "    \n",
    "else:\n",
    "    print(header1)\n",
    "    print(header2)\n",
    "    \n",
    "    # 다운로드 파일 정보\n",
    "    print(f'파일1 {file1}')\n",
    "    print(f'파일2 {file2}')\n",
    "    \n",
    "    print('다운로드 성공')\n",
    "\n",
    "    "
   ]
  },
  {
   "cell_type": "code",
   "execution_count": 11,
   "metadata": {},
   "outputs": [
    {
     "data": {
      "text/plain": [
       "('c:/크롤링 자료/jeju.jpg', <http.client.HTTPMessage at 0x25fd1c8c488>)"
      ]
     },
     "execution_count": 11,
     "metadata": {},
     "output_type": "execute_result"
    }
   ],
   "source": [
    "import urllib.request as req\n",
    "\n",
    "img_url = \"http://imgnews.naver.net/image/5041/2011/11/07/103043_80065_2539.jpg\"\n",
    "path1 = \"c:/크롤링 자료/jeju.jpg\"\n",
    "\n",
    "req.urlretrieve(img_url, path1)\n"
   ]
  }
 ],
 "metadata": {
  "kernelspec": {
   "display_name": "Python 3",
   "language": "python",
   "name": "python3"
  },
  "language_info": {
   "codemirror_mode": {
    "name": "ipython",
    "version": 3
   },
   "file_extension": ".py",
   "mimetype": "text/x-python",
   "name": "python",
   "nbconvert_exporter": "python",
   "pygments_lexer": "ipython3",
   "version": "3.7.7"
  }
 },
 "nbformat": 4,
 "nbformat_minor": 4
}
