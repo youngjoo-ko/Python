{
 "cells": [
  {
   "cell_type": "code",
   "execution_count": 30,
   "metadata": {},
   "outputs": [
    {
     "name": "stdout",
     "output_type": "stream",
     "text": [
      "17036390 다만 악에서 구하소서 8 ajav****\n",
      "17036389 블루 시걸 3 xx41****\n",
      "17036388 다만 악에서 구하소서 6 smof****\n",
      "17036387 미드소마 3 ayas****\n",
      "17036386 신암행어사 8 xx41****\n",
      "17036385 다만 악에서 구하소서 6 sehe****\n",
      "17036384 다만 악에서 구하소서 10 nono****\n",
      "17036383 다만 악에서 구하소서 1 wyj0****\n",
      "17036382 다만 악에서 구하소서 7 abcd****\n",
      "17036381 인터스텔라 10 benz****\n"
     ]
    }
   ],
   "source": [
    "# 한 페이지의 평점 가져오기\n",
    "\n",
    "import requests as req\n",
    "from bs4 import BeautifulSoup\n",
    "\n",
    "url = 'https://movie.naver.com/movie/point/af/list.nhn?&page=10'\n",
    "\n",
    "result = req.get(url)\n",
    "bs = BeautifulSoup(result.text, 'lxml') # 또는 html.parser를 사용할 수 있다, 속도는 lxml이 빠르다\n",
    "\n",
    "trs = bs.select('table.list_netizen > tbody > tr')\n",
    "# print(trs)\n",
    "\n",
    "\n",
    "for tr in trs:\n",
    "    tds = tr.select('td')\n",
    "    \n",
    "    if len(tds) != 3:   # 분석결과 3개가 나오는게 정상이지만, 예외가 있을수 있으므로\n",
    "        continue\n",
    "    num = tds[0].text\n",
    "    title = tds[1].select('a')[0].text # select은 리스트로 반환하기 때문에 인덱스로 구함\n",
    "    point = tds[1].select('div > em')[0].text\n",
    "#     review = tds[1].select('.title > br')[0].text\n",
    "    author = tds[2].select('a')[0].string\n",
    "    print(num, title, point, author)"
   ]
  },
  {
   "cell_type": "code",
   "execution_count": 50,
   "metadata": {
    "scrolled": true
   },
   "outputs": [
    {
     "name": "stdout",
     "output_type": "stream",
     "text": [
      "['17048093', '서치', '10', '와.... 진짜 재밌다. 몰입감이 엄청남. 이런 식으로 촬영(?)해서 찍은 영화는 처음 보는데 아무튼 촬영 신박하고 내용이 대박이다.. 뒷통수 치네;', 'pgh5****']\n",
      "['17048092', '다만 악에서 구하소서', '10', '배우분들 연기력은 말할것없이 믿고보는 영화였고 최근에 개봉한 영화 중에서 오랜만에 가장 집중력있고 재밌게 본거같아요', 'ming****']\n",
      "['17048091', '다만 악에서 구하소서', '2', '앞 뒤 다 잘라먹고 개연성 없는 스토리, 태국에서 욕쳐먹어도 할말없는 후진국 설정, 스토리 때문에 배우도 못살려 먹음.', 'gotl****']\n",
      "['17048090', '강철비2: 정상회담', '8', '사실 기대 안하고 봤는데 괜찮았다. 잠수함영화다. 대통령들이 다소 코믹해서 좀 상황에 안맞는것 같지만 뭐 약간의 웃음은 주었다. 잠수함과 국뽕을 좋아한다면 재밌게 볼 수 있을것 같다.', '96br****']\n",
      "['17048089', '다만 악에서 구하소서', '9', '스토리는 갸우뚱 황정민의 표준말은 조금 어색하지만 처음 어둠에서 얼굴 나올때 감정등 대사보다 표정과 얼굴 연기에 빠졌고 이정재 복도에서 황정민과 만났을때 살벌한 눈빛연기랑 사이코 같은 액션에 흠칫했으며 박정민의 코믹요소가 좋았다. 근데 마지막은 레옹 오마주임??', 'alex****']\n",
      "['17048088', '버닝', '10', '이 영화를 전혀 재미없고 그저 지루하다고만 느끼는 사람들이 너무 안타깝다..', 'sund****']\n",
      "['17048087', '이도공간', '10', '', 'baek****']\n",
      "['17048086', '다만 악에서 구하소서', '8', '개연성이 좀 떨어지긴 했지만 다들 연기를 잘해서 볼 만했어요. 박정민 배우가 역할을 찰떡같이 소화한듯.. 다만 악에서 구하소서란 제목이 어찌됐든 목숨만 살린다는 뜻인지.. 약간 아쉬움이 남는 영화', 'noti****']\n",
      "['17048085', '올드 가드', '10', '판타지랑 액션이 적절해서 지루하지 않고 재밌게 봤어요ㅎㅎ노래도 찰떡', 'wjst****']\n",
      "['17048084', '소년시절의 너', '10', '배경만 중국일뿐 한국과 다르지 않은 입시지옥에서 고통받는 아이들을 잘 표현햇다생각', 'hell****']\n",
      "['17048084', '소년시절의 너', '10', '배경만 중국일뿐 한국과 다르지 않은 입시지옥에서 고통받는 아이들을 잘 표현햇다생각', 'hell****']\n"
     ]
    }
   ],
   "source": [
    "# 여러 페이지의 평점 가져오는 함수 만들기\n",
    "\n",
    "\n",
    "import requests as req\n",
    "from bs4 import BeautifulSoup\n",
    "\n",
    "def movie_review(start, end):\n",
    "    results = []\n",
    "    for i in range(start, end+1):\n",
    "\n",
    "        url = f'https://movie.naver.com/movie/point/af/list.nhn?&page={i}'\n",
    "\n",
    "        result = req.get(url)\n",
    "        bs = BeautifulSoup(result.text, 'lxml') # 또는 html.parser를 사용할 수 있다, 속도는 lxml이 빠르다\n",
    "\n",
    "        trs = bs.select('table.list_netizen > tbody > tr')\n",
    "#         print(trs)\n",
    "\n",
    "\n",
    "    for tr in trs:\n",
    "            tds = tr.select('td')\n",
    "\n",
    "            if len(tds) != 3:   # 분석결과 3개가 나오는게 정상이지만, 예외가 있을수 있으므로\n",
    "                continue\n",
    "            num = tds[0].text\n",
    "            title = tds[1].select('a')[0].text # select은 리스트로 반환하기 때문에 인덱스로 구함\n",
    "            point = tds[1].select('div > em')[0].text\n",
    "            review = tds[1].select('br')[0].next_sibling.string.strip()\n",
    "            # extract() 함수로도 이용 가능 : 테그 및 태그의 내용 모두 삭제\n",
    "#             [x.extract() for x in tds[1].select('a')]\n",
    "#             [x.extract() for x in tds[1].select('div')]\n",
    "#             review = tds[1].text.strip()\n",
    "            \n",
    "            author = tds[2].select('a')[0].string\n",
    "            results.append([num, title, point, review, author])\n",
    "#             print(num, title, point, author)\n",
    "    for re in results:\n",
    "        print(re)\n",
    "    return re\n",
    "        \n",
    "print(movie_review(1,5))\n",
    "        "
   ]
  },
  {
   "cell_type": "code",
   "execution_count": 93,
   "metadata": {},
   "outputs": [],
   "source": [
    "# 위 결과를 csv 파일에 저장하기\n",
    "\n",
    "import requests as req\n",
    "from bs4 import BeautifulSoup\n",
    "import csv\n",
    "\n",
    "\n",
    "results = movie_review(1,5)\n",
    "\n",
    "with open('./movie_review.csv', 'w', encoding='utf-8', newline='') as f:\n",
    "    csv_writer = csv.writer(f)\n",
    "    csv_writer.writerows(results)"
   ]
  },
  {
   "cell_type": "code",
   "execution_count": null,
   "metadata": {},
   "outputs": [],
   "source": []
  }
 ],
 "metadata": {
  "kernelspec": {
   "display_name": "Python 3",
   "language": "python",
   "name": "python3"
  },
  "language_info": {
   "codemirror_mode": {
    "name": "ipython",
    "version": 3
   },
   "file_extension": ".py",
   "mimetype": "text/x-python",
   "name": "python",
   "nbconvert_exporter": "python",
   "pygments_lexer": "ipython3",
   "version": "3.7.6"
  }
 },
 "nbformat": 4,
 "nbformat_minor": 4
}
