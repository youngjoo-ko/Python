{
 "cells": [
  {
   "cell_type": "markdown",
   "metadata": {},
   "source": [
    "## urllib 주요 기능"
   ]
  },
  {
   "cell_type": "code",
   "execution_count": 14,
   "metadata": {
    "scrolled": true
   },
   "outputs": [
    {
     "name": "stdout",
     "output_type": "stream",
     "text": [
      "type: <class 'http.client.HTTPResponse'>\n",
      "geturl: https://www.ytn.co.kr/\n",
      "status: 200\n",
      "heasers: [('Content-Type', 'text/html; charset=UTF-8'), ('Transfer-Encoding', 'chunked'), ('Connection', 'close'), ('Date', 'Fri, 31 Jul 2020 01:07:17 GMT'), ('Server', 'Apache/2.4.6 (CentOS) OpenSSL/1.0.2k-fips'), ('X-XSS-Protection', '1; mode=block'), ('X-Cache', 'Miss from cloudfront'), ('Via', '1.1 9fc95092bba06532109a035215d01250.cloudfront.net (CloudFront)'), ('X-Amz-Cf-Pop', 'ICN51-C1'), ('X-Amz-Cf-Id', 'HhiGkdSTteMDfKp1PVeKmwJFhqTwWjdcZIqCGkHOgj-RUFerfnuLDQ==')]\n",
      "getcode: 200\n",
      "------------------------------------------------------------------------\n",
      "read: <!DOCTYPE html PUBLIC \"-//W3C//DTD XHTML 1.0 Transitional//EN\" \"http://www.w3.org/TR/xhtml1/DTD/xhtml1-transitional.dtd\">\n",
      "<html xmlns=\"http://www.w3.org/1999/xhtml\" xml:lang=\"ko\" lang=\"ko\">\n",
      "<head>\n",
      "<ti\n",
      "url parse: ParseResult(scheme='http', netloc='www.ytn.co.kr', path='', params='', query='id=test&pw=1234', fragment='')\n",
      "url parse: id=test&pw=1234\n"
     ]
    }
   ],
   "source": [
    "import urllib.request\n",
    "from urllib.parse import urlparse\n",
    "\n",
    "url = 'http://www.ytn.co.kr'\n",
    "\n",
    "m_url = urllib.request.urlopen(url)\n",
    "\n",
    "print(f'type: {type(m_url)}')\n",
    "print(f'geturl: {m_url.geturl()}')\n",
    "print(f'status: {m_url.status}')\n",
    "print(f'heasers: {m_url.getheaders()}')\n",
    "print(f'getcode: {m_url.getcode()}') # status와 같음\n",
    "print('------------------------------------------------------------------------')\n",
    "print(f'read: {m_url.read(200).decode(\"utf-8\")}') # ()빈괄호는 전부 다 읽어옴, 원하는 바이트 수 할당\n",
    "print(f'url parse: {urlparse(\"http://www.ytn.co.kr?id=test&pw=1234\")}')\n",
    "# ? 뒤에 나오는 것은 쿼리스트링(여러개를 전달할 경우 & 이용)이라고 한다\n",
    "# 쿼리스트링만 가져오고 싶다면\n",
    "print(f'url parse: {urlparse(\"http://www.ytn.co.kr?id=test&pw=1234\").query}')\n"
   ]
  },
  {
   "cell_type": "markdown",
   "metadata": {},
   "source": [
    "## ipify.org"
   ]
  },
  {
   "cell_type": "code",
   "execution_count": 20,
   "metadata": {},
   "outputs": [
    {
     "name": "stdout",
     "output_type": "stream",
     "text": [
      "before param: {'format': 'json'}\n",
      "after param: format=json\n",
      "요청 url: https://api.ipify.org?format=json\n",
      "---------------------------------------------------------\n",
      "response: {\"ip\":\"115.93.33.174\"}\n"
     ]
    }
   ],
   "source": [
    "api_url = 'https://api.ipify.org'\n",
    "\n",
    "values = {\n",
    "    'format':'json'\n",
    "}\n",
    "\n",
    "print(f'before param: {values}')\n",
    "params = urllib.parse.urlencode(values)\n",
    "print(f'after param: {params}')\n",
    "\n",
    "\n",
    "url = api_url + '?' + params\n",
    "print(f'요청 url: {url}')\n",
    "\n",
    "print('---------------------------------------------------------')\n",
    "#응답 데이터 읽어오기\n",
    "data = urllib.request.urlopen(url).read()\n",
    "\n",
    "#응답된 데이터 디코딩\n",
    "txt = data.decode('utf8')\n",
    "print(f'response: {txt}') # 학원의 공인 ip를 응답(전 수강생이 모두 같음)"
   ]
  }
 ],
 "metadata": {
  "kernelspec": {
   "display_name": "Python 3",
   "language": "python",
   "name": "python3"
  },
  "language_info": {
   "codemirror_mode": {
    "name": "ipython",
    "version": 3
   },
   "file_extension": ".py",
   "mimetype": "text/x-python",
   "name": "python",
   "nbconvert_exporter": "python",
   "pygments_lexer": "ipython3",
   "version": "3.7.7"
  }
 },
 "nbformat": 4,
 "nbformat_minor": 4
}
