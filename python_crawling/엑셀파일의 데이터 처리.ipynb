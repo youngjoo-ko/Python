{
 "cells": [
  {
   "cell_type": "markdown",
   "metadata": {},
   "source": [
    "## 엑셀 파일 처리하기\n",
    "\n",
    "- 관련 라이브러리\n",
    " - openpyxl, xlsxwriter, xlrd, xlutils...\n",
    " - 주로 **pandas**(openpyxl,xlrd 설치필요)를 많이 사용함"
   ]
  },
  {
   "cell_type": "code",
   "execution_count": 14,
   "metadata": {},
   "outputs": [
    {
     "name": "stdout",
     "output_type": "stream",
     "text": [
      "     code       대리점 영업사원       전월       금월  TEAM  총 판매수량\n",
      "0  KI1875  제주제주시대리점  민경수  3420000  2346000     4     210\n",
      "1  KI1917   경기광주대리점  김진혜  1292000  1518000     1     110\n",
      "2  KI2032   경기평택대리점  고유정  2736000  2139000     2      90\n",
      "3  KI2153  경기의정부대리점  김은향  1368000  2484000     1     183\n",
      "4  KI2214   경기성남대리점  이준수  1976000  1518000     3      73\n",
      "      code       대리점 영업사원       전월       금월  TEAM  총 판매수량\n",
      "25  KI2870  경기구리시대리점  박진형  6000000  3400000     2     143\n",
      "26  KI2910   강원춘천대리점  김말똥  4800000  4896000     1     176\n",
      "27  KI3030   강원영동대리점  전수창  4560000  3128000     2      98\n",
      "28  KI3131   경기하남대리점  김민정  2750000  7268000     3     293\n",
      "29  KI3252   강원포천대리점  서가은  2420000  4740000     4     240\n",
      "(30, 7)\n"
     ]
    }
   ],
   "source": [
    "import pandas as pd\n",
    "\n",
    "xlsx = pd.read_excel('./data_sample.xlsx')\n",
    "# print(xlsx)\n",
    "\n",
    "# head() : 엑셀파일의 상위 데이터 확인할 때 사용\n",
    "print(xlsx.head())\n",
    "# tail() : 엑셀파일의 하위 데이터 확인할 때 사용\n",
    "print(xlsx.tail())\n",
    "\n",
    "# shape : 데이터 행,열 확인\n",
    "print(xlsx.shape)\n",
    "\n",
    "# 엑셀 파일 쓰기\n",
    "xlsx.to_excel('./results.xlsx', index=False)\n",
    "xlsx.to_csv('./results.csv', index=False)"
   ]
  }
 ],
 "metadata": {
  "kernelspec": {
   "display_name": "Python 3",
   "language": "python",
   "name": "python3"
  },
  "language_info": {
   "codemirror_mode": {
    "name": "ipython",
    "version": 3
   },
   "file_extension": ".py",
   "mimetype": "text/x-python",
   "name": "python",
   "nbconvert_exporter": "python",
   "pygments_lexer": "ipython3",
   "version": "3.7.6"
  }
 },
 "nbformat": 4,
 "nbformat_minor": 4
}
