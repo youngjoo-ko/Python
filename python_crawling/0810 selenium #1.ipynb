{
 "cells": [
  {
   "cell_type": "markdown",
   "metadata": {},
   "source": [
    "## 크롬 웹드라이버 버전별 다운로드 사이트\n",
    "https://sites.goolge.com/a/chromium.org/chromedriver/downloads"
   ]
  },
  {
   "cell_type": "code",
   "execution_count": 2,
   "metadata": {},
   "outputs": [
    {
     "ename": "ModuleNotFoundError",
     "evalue": "No module named 'selenium'",
     "output_type": "error",
     "traceback": [
      "\u001b[1;31m---------------------------------------------------------------------------\u001b[0m",
      "\u001b[1;31mModuleNotFoundError\u001b[0m                       Traceback (most recent call last)",
      "\u001b[1;32m<ipython-input-2-fc11819ac507>\u001b[0m in \u001b[0;36m<module>\u001b[1;34m\u001b[0m\n\u001b[1;32m----> 1\u001b[1;33m \u001b[1;32mfrom\u001b[0m \u001b[0mselenium\u001b[0m \u001b[1;32mimport\u001b[0m \u001b[0mwebdriver\u001b[0m \u001b[1;32mas\u001b[0m \u001b[0mwd\u001b[0m\u001b[1;33m\u001b[0m\u001b[1;33m\u001b[0m\u001b[0m\n\u001b[0m\u001b[0;32m      2\u001b[0m \u001b[1;33m\u001b[0m\u001b[0m\n\u001b[0;32m      3\u001b[0m \u001b[1;31m# 웹드라이버 설정(크롬, 익스플로러, 파이어폭스 등)\u001b[0m\u001b[1;33m\u001b[0m\u001b[1;33m\u001b[0m\u001b[1;33m\u001b[0m\u001b[0m\n\u001b[0;32m      4\u001b[0m \u001b[0mbrowser\u001b[0m \u001b[1;33m=\u001b[0m \u001b[0mwd\u001b[0m\u001b[1;33m.\u001b[0m\u001b[0mChrome\u001b[0m\u001b[1;33m(\u001b[0m\u001b[1;34m'./webdriver/chromedriver.exe'\u001b[0m\u001b[1;33m)\u001b[0m\u001b[1;33m\u001b[0m\u001b[1;33m\u001b[0m\u001b[0m\n\u001b[0;32m      5\u001b[0m \u001b[1;33m\u001b[0m\u001b[0m\n",
      "\u001b[1;31mModuleNotFoundError\u001b[0m: No module named 'selenium'"
     ]
    }
   ],
   "source": [
    "from selenium import webdriver as wd\n",
    "\n",
    "# 웹드라이버 설정(크롬, 익스플로러, 파이어폭스 등)\n",
    "browser = wd.Chrome('./webdriver/chromedriver.exe')\n",
    "\n",
    "# # 브라우저 내부 대기 설정(데이터를 불러왔을 때 화면에 펼쳐지는 것을 랜더링이라고 함\n",
    "# # 랜더링이 완료되지 않았을 때 클릭명령을 내리면 오류가 나기 때문에 최소 3초간)\n",
    "browser.implicitly_wait(3)\n",
    "\n",
    "# # 속성 확인\n",
    "print(dir(browser))\n",
    "\n",
    "# # 브라우저 사이즈 지정 : maximize_window(), minimize_window()\n",
    "browser.set_window_size(800,600)\n",
    "\n",
    "# # 페이지 이동\n",
    "browser.get('https://www.daum.net')\n",
    "\n",
    "# # 페이지 내용\n",
    "print(f'page contents : {browser.page_source}')\n",
    "\n",
    "# # 세션의 id값 가져오기\n",
    "print(f'Session ID: {browser.session_id}')\n",
    "\n",
    "# 쿠키 정보 확인\n",
    "print(f'Cookies: {browser.get_cookies()}')\n",
    "\n",
    "# 타이틀 출력\n",
    "print(f'Title: {browser.title}')\n",
    "\n",
    "# url 출력\n",
    "print(f'Url: {browser.current_url}')\n",
    "\n",
    "# 검색어 입력창 선택\n",
    "element = browser.find_element_by_css_selector('div.inner_search > input.tf_keyword')\n",
    "\n",
    "# 검색어 입력\n",
    "element.send_keys('손흥민')\n",
    "\n",
    "# 검색어 서버에 전송(submit)\n",
    "element.submit()"
   ]
  }
 ],
 "metadata": {
  "kernelspec": {
   "display_name": "Python 3",
   "language": "python",
   "name": "python3"
  },
  "language_info": {
   "codemirror_mode": {
    "name": "ipython",
    "version": 3
   },
   "file_extension": ".py",
   "mimetype": "text/x-python",
   "name": "python",
   "nbconvert_exporter": "python",
   "pygments_lexer": "ipython3",
   "version": "3.7.7"
  }
 },
 "nbformat": 4,
 "nbformat_minor": 4
}
