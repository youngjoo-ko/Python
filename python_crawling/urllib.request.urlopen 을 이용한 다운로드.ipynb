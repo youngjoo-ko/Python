{
 "cells": [
  {
   "cell_type": "markdown",
   "metadata": {},
   "source": [
    "## urllib.request.urlopen 사용법\n",
    "읽어들인 자료를 임의의 변수에 저장하여 다운로드 , 자주 사용\n",
    " "
   ]
  },
  {
   "cell_type": "code",
   "execution_count": 10,
   "metadata": {},
   "outputs": [
    {
     "name": "stdout",
     "output_type": "stream",
     "text": [
      "--------------------------------------\n",
      "Header Info; Date: Thu, 30 Jul 2020 06:29:05 GMT\n",
      "Accept-Ranges: bytes\n",
      "Access-Control-Allow-Credentials: true\n",
      "Access-Control-Allow-Headers: accept, content-type\n",
      "Access-Control-Allow-Methods: GET, POST\n",
      "Access-Control-Allow-Origin: *\n",
      "Cache-Control: max-age=2592000\n",
      "Content-Length: 47129\n",
      "Content-Type: image/jpeg\n",
      "Last-Modified: Wed, 29 Jul 2020 01:43:57 GMT\n",
      "P3p: CP=\"ALL CURa ADMa DEVa TAIa OUR BUS IND PHY ONL UNI PUR FIN COM NAV INT DEM CNT STA POL HEA PRE LOC OTC\"\n",
      "Age: 103509\n",
      "Expires: Fri, 28 Aug 2020 01:43:57 GMT\n",
      "Connection: close\n",
      "\n",
      "\n",
      "HTTP status code: <bound method HTTPResponse.getcode of <http.client.HTTPResponse object at 0x0000019E22D438C8>>\n",
      "--------------------------------------\n",
      "다운로드 성공\n",
      "--------------------------------------\n",
      "Header Info; Date: Thu, 30 Jul 2020 06:29:07 GMT\n",
      "Expires: -1\n",
      "Cache-Control: private, max-age=0\n",
      "Content-Type: text/html; charset=ISO-8859-1\n",
      "P3P: CP=\"This is not a P3P policy! See g.co/p3phelp for more info.\"\n",
      "Server: gws\n",
      "X-XSS-Protection: 0\n",
      "X-Frame-Options: SAMEORIGIN\n",
      "Set-Cookie: 1P_JAR=2020-07-30-06; expires=Sat, 29-Aug-2020 06:29:07 GMT; path=/; domain=.google.com; Secure\n",
      "Set-Cookie: NID=204=yhg6L_CY9TeuRo1uvCcFe6y2YjAFbHYnobwmsVW_bxaecMO8yPnzapuhSg-7gYn0EyU7vZCGaGTH1QyAwMKqUslOOuCNU_3QXBiRuIeYIW0LkjBrRyRnqjPjF6rlvbZI0uENT8N6iaHnYQ1LaJ-5m3MvlHInVKTl8G3U3yytjAg; expires=Fri, 29-Jan-2021 06:29:07 GMT; path=/; domain=.google.com; HttpOnly\n",
      "Accept-Ranges: none\n",
      "Vary: Accept-Encoding\n",
      "Connection: close\n",
      "Transfer-Encoding: chunked\n",
      "\n",
      "\n",
      "HTTP status code: <bound method HTTPResponse.getcode of <http.client.HTTPResponse object at 0x0000019E22E1FB48>>\n",
      "--------------------------------------\n",
      "다운로드 성공\n"
     ]
    }
   ],
   "source": [
    "import urllib.request as req\n",
    "from urllib.error import URLError, HTTPError\n",
    "\n",
    "# 저장하고 싶은 url 주소와 저장경로 지정\n",
    "paths = ['c:/크롤링 자료/dog2.jpg', 'c:/크롤링 자료/google2.html']\n",
    "src_url = ['http://blogfiles.naver.net/20130523_245/hunny6520_13692836366892BRuN_JPEG/%B0%ED%BE%E7%C0%CC.jpg','http://google.com']\n",
    "\n",
    "\n",
    "for idx, url in enumerate(src_url):\n",
    "    \n",
    "    try:\n",
    "        #     pass \n",
    "        #  request 모듈의 urlopen 함수를 이용해 웹정보 수신하기\n",
    "        response = req.urlopen(url)\n",
    "\n",
    "        # 웹으로부터 수신 받은 내용\n",
    "        contents = response.read()\n",
    "\n",
    "        # 상태 정보 출력\n",
    "        print('--------------------------------------')\n",
    "        print(f'Header Info; {response.info()}')\n",
    "        print(f'HTTP status code: {response.getcode}')\n",
    "        print('--------------------------------------')\n",
    "\n",
    "        # 파일 쓰기\n",
    "        with open(paths[idx], 'wb') as fp:\n",
    "            fp.write(contents)\n",
    "\n",
    "    except HTTPError as e:\n",
    "        print('다운로드  실패')\n",
    "        print('HTTPError Code: ', e.code)\n",
    "\n",
    "    except HTTPError as e:\n",
    "        print('다운로드  실패')\n",
    "        print('UrlError reason: ', e.reason)\n",
    "\n",
    "    else:\n",
    "        print('다운로드 성공')\n",
    "    "
   ]
  }
 ],
 "metadata": {
  "kernelspec": {
   "display_name": "Python 3",
   "language": "python",
   "name": "python3"
  },
  "language_info": {
   "codemirror_mode": {
    "name": "ipython",
    "version": 3
   },
   "file_extension": ".py",
   "mimetype": "text/x-python",
   "name": "python",
   "nbconvert_exporter": "python",
   "pygments_lexer": "ipython3",
   "version": "3.7.7"
  }
 },
 "nbformat": 4,
 "nbformat_minor": 4
}
